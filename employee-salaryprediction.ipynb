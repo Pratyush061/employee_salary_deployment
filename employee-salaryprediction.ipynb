{
 "cells": [
  {
   "cell_type": "code",
   "execution_count": 1,
   "metadata": {
    "_cell_guid": "b1076dfc-b9ad-4769-8c92-a6c4dae69d19",
    "_uuid": "8f2839f25d086af736a60e9eeb907d3b93b6e0e5",
    "execution": {
     "iopub.execute_input": "2025-07-18T05:35:27.196040Z",
     "iopub.status.busy": "2025-07-18T05:35:27.195704Z",
     "iopub.status.idle": "2025-07-18T05:35:27.610527Z",
     "shell.execute_reply": "2025-07-18T05:35:27.609564Z",
     "shell.execute_reply.started": "2025-07-18T05:35:27.196010Z"
    },
    "trusted": true
   },
   "outputs": [
    {
     "name": "stdout",
     "output_type": "stream",
     "text": [
      "/kaggle/input/experience-salary-dataset/Experience-Salary.csv\n",
      "/kaggle/input/salaly-prediction-for-beginer/Salary Data.csv\n",
      "/kaggle/input/salary-prediction-data/salary_prediction_data.csv\n"
     ]
    }
   ],
   "source": [
    "# This Python 3 environment comes with many helpful analytics libraries installed\n",
    "# It is defined by the kaggle/python Docker image: https://github.com/kaggle/docker-python\n",
    "# For example, here's several helpful packages to load\n",
    "\n",
    "import numpy as np # linear algebra\n",
    "import pandas as pd # data processing, CSV file I/O (e.g. pd.read_csv)\n",
    "\n",
    "# Input data files are available in the read-only \"../input/\" directory\n",
    "# For example, running this (by clicking run or pressing Shift+Enter) will list all files under the input directory\n",
    "\n",
    "import os\n",
    "for dirname, _, filenames in os.walk('/kaggle/input'):\n",
    "    for filename in filenames:\n",
    "        print(os.path.join(dirname, filename))\n",
    "\n",
    "# You can write up to 20GB to the current directory (/kaggle/working/) that gets preserved as output when you create a version using \"Save & Run All\" \n",
    "# You can also write temporary files to /kaggle/temp/, but they won't be saved outside of the current session"
   ]
  },
  {
   "cell_type": "code",
   "execution_count": 2,
   "metadata": {
    "execution": {
     "iopub.execute_input": "2025-07-18T05:35:27.612666Z",
     "iopub.status.busy": "2025-07-18T05:35:27.612288Z",
     "iopub.status.idle": "2025-07-18T05:35:27.667519Z",
     "shell.execute_reply": "2025-07-18T05:35:27.666530Z",
     "shell.execute_reply.started": "2025-07-18T05:35:27.612644Z"
    },
    "trusted": true
   },
   "outputs": [],
   "source": [
    "dataset3=pd.read_csv('/kaggle/input/experience-salary-dataset/Experience-Salary.csv')\n",
    "dataset2=pd.read_csv('/kaggle/input/salary-prediction-data/salary_prediction_data.csv')\n",
    "dataset1=pd.read_csv('/kaggle/input/salaly-prediction-for-beginer/Salary Data.csv')"
   ]
  },
  {
   "cell_type": "code",
   "execution_count": 3,
   "metadata": {
    "execution": {
     "iopub.execute_input": "2025-07-18T05:35:27.668785Z",
     "iopub.status.busy": "2025-07-18T05:35:27.668520Z",
     "iopub.status.idle": "2025-07-18T05:35:27.700728Z",
     "shell.execute_reply": "2025-07-18T05:35:27.699698Z",
     "shell.execute_reply.started": "2025-07-18T05:35:27.668765Z"
    },
    "trusted": true
   },
   "outputs": [
    {
     "data": {
      "text/html": [
       "<div>\n",
       "<style scoped>\n",
       "    .dataframe tbody tr th:only-of-type {\n",
       "        vertical-align: middle;\n",
       "    }\n",
       "\n",
       "    .dataframe tbody tr th {\n",
       "        vertical-align: top;\n",
       "    }\n",
       "\n",
       "    .dataframe thead th {\n",
       "        text-align: right;\n",
       "    }\n",
       "</style>\n",
       "<table border=\"1\" class=\"dataframe\">\n",
       "  <thead>\n",
       "    <tr style=\"text-align: right;\">\n",
       "      <th></th>\n",
       "      <th>exp(in months)</th>\n",
       "      <th>salary(in thousands)</th>\n",
       "    </tr>\n",
       "  </thead>\n",
       "  <tbody>\n",
       "    <tr>\n",
       "      <th>0</th>\n",
       "      <td>18.290293</td>\n",
       "      <td>16.521825</td>\n",
       "    </tr>\n",
       "    <tr>\n",
       "      <th>1</th>\n",
       "      <td>17.023407</td>\n",
       "      <td>11.666234</td>\n",
       "    </tr>\n",
       "    <tr>\n",
       "      <th>2</th>\n",
       "      <td>26.343613</td>\n",
       "      <td>23.167255</td>\n",
       "    </tr>\n",
       "    <tr>\n",
       "      <th>3</th>\n",
       "      <td>19.105834</td>\n",
       "      <td>20.877145</td>\n",
       "    </tr>\n",
       "    <tr>\n",
       "      <th>4</th>\n",
       "      <td>27.742516</td>\n",
       "      <td>23.166236</td>\n",
       "    </tr>\n",
       "    <tr>\n",
       "      <th>...</th>\n",
       "      <td>...</td>\n",
       "      <td>...</td>\n",
       "    </tr>\n",
       "    <tr>\n",
       "      <th>995</th>\n",
       "      <td>22.161741</td>\n",
       "      <td>24.666502</td>\n",
       "    </tr>\n",
       "    <tr>\n",
       "      <th>996</th>\n",
       "      <td>32.266497</td>\n",
       "      <td>24.160270</td>\n",
       "    </tr>\n",
       "    <tr>\n",
       "      <th>997</th>\n",
       "      <td>17.039030</td>\n",
       "      <td>19.903797</td>\n",
       "    </tr>\n",
       "    <tr>\n",
       "      <th>998</th>\n",
       "      <td>25.222124</td>\n",
       "      <td>21.974413</td>\n",
       "    </tr>\n",
       "    <tr>\n",
       "      <th>999</th>\n",
       "      <td>16.418028</td>\n",
       "      <td>19.634787</td>\n",
       "    </tr>\n",
       "  </tbody>\n",
       "</table>\n",
       "<p>1000 rows × 2 columns</p>\n",
       "</div>"
      ],
      "text/plain": [
       "     exp(in months)  salary(in thousands)\n",
       "0         18.290293             16.521825\n",
       "1         17.023407             11.666234\n",
       "2         26.343613             23.167255\n",
       "3         19.105834             20.877145\n",
       "4         27.742516             23.166236\n",
       "..              ...                   ...\n",
       "995       22.161741             24.666502\n",
       "996       32.266497             24.160270\n",
       "997       17.039030             19.903797\n",
       "998       25.222124             21.974413\n",
       "999       16.418028             19.634787\n",
       "\n",
       "[1000 rows x 2 columns]"
      ]
     },
     "execution_count": 3,
     "metadata": {},
     "output_type": "execute_result"
    }
   ],
   "source": [
    "dataset3"
   ]
  },
  {
   "cell_type": "code",
   "execution_count": 4,
   "metadata": {
    "execution": {
     "iopub.execute_input": "2025-07-18T05:35:27.702212Z",
     "iopub.status.busy": "2025-07-18T05:35:27.701810Z",
     "iopub.status.idle": "2025-07-18T05:35:27.718705Z",
     "shell.execute_reply": "2025-07-18T05:35:27.717404Z",
     "shell.execute_reply.started": "2025-07-18T05:35:27.702181Z"
    },
    "trusted": true
   },
   "outputs": [
    {
     "data": {
      "text/html": [
       "<div>\n",
       "<style scoped>\n",
       "    .dataframe tbody tr th:only-of-type {\n",
       "        vertical-align: middle;\n",
       "    }\n",
       "\n",
       "    .dataframe tbody tr th {\n",
       "        vertical-align: top;\n",
       "    }\n",
       "\n",
       "    .dataframe thead th {\n",
       "        text-align: right;\n",
       "    }\n",
       "</style>\n",
       "<table border=\"1\" class=\"dataframe\">\n",
       "  <thead>\n",
       "    <tr style=\"text-align: right;\">\n",
       "      <th></th>\n",
       "      <th>Education</th>\n",
       "      <th>Experience</th>\n",
       "      <th>Location</th>\n",
       "      <th>Job_Title</th>\n",
       "      <th>Age</th>\n",
       "      <th>Gender</th>\n",
       "      <th>Salary</th>\n",
       "    </tr>\n",
       "  </thead>\n",
       "  <tbody>\n",
       "    <tr>\n",
       "      <th>0</th>\n",
       "      <td>High School</td>\n",
       "      <td>8</td>\n",
       "      <td>Urban</td>\n",
       "      <td>Manager</td>\n",
       "      <td>63</td>\n",
       "      <td>Male</td>\n",
       "      <td>84620.053665</td>\n",
       "    </tr>\n",
       "    <tr>\n",
       "      <th>1</th>\n",
       "      <td>PhD</td>\n",
       "      <td>11</td>\n",
       "      <td>Suburban</td>\n",
       "      <td>Director</td>\n",
       "      <td>59</td>\n",
       "      <td>Male</td>\n",
       "      <td>142591.255894</td>\n",
       "    </tr>\n",
       "    <tr>\n",
       "      <th>2</th>\n",
       "      <td>Bachelor</td>\n",
       "      <td>28</td>\n",
       "      <td>Suburban</td>\n",
       "      <td>Manager</td>\n",
       "      <td>61</td>\n",
       "      <td>Female</td>\n",
       "      <td>97800.255404</td>\n",
       "    </tr>\n",
       "    <tr>\n",
       "      <th>3</th>\n",
       "      <td>High School</td>\n",
       "      <td>29</td>\n",
       "      <td>Rural</td>\n",
       "      <td>Director</td>\n",
       "      <td>45</td>\n",
       "      <td>Male</td>\n",
       "      <td>96834.671282</td>\n",
       "    </tr>\n",
       "    <tr>\n",
       "      <th>4</th>\n",
       "      <td>PhD</td>\n",
       "      <td>25</td>\n",
       "      <td>Urban</td>\n",
       "      <td>Analyst</td>\n",
       "      <td>26</td>\n",
       "      <td>Female</td>\n",
       "      <td>132157.786175</td>\n",
       "    </tr>\n",
       "    <tr>\n",
       "      <th>...</th>\n",
       "      <td>...</td>\n",
       "      <td>...</td>\n",
       "      <td>...</td>\n",
       "      <td>...</td>\n",
       "      <td>...</td>\n",
       "      <td>...</td>\n",
       "      <td>...</td>\n",
       "    </tr>\n",
       "    <tr>\n",
       "      <th>995</th>\n",
       "      <td>High School</td>\n",
       "      <td>8</td>\n",
       "      <td>Suburban</td>\n",
       "      <td>Analyst</td>\n",
       "      <td>25</td>\n",
       "      <td>Female</td>\n",
       "      <td>64683.389864</td>\n",
       "    </tr>\n",
       "    <tr>\n",
       "      <th>996</th>\n",
       "      <td>High School</td>\n",
       "      <td>24</td>\n",
       "      <td>Urban</td>\n",
       "      <td>Engineer</td>\n",
       "      <td>30</td>\n",
       "      <td>Female</td>\n",
       "      <td>74468.205020</td>\n",
       "    </tr>\n",
       "    <tr>\n",
       "      <th>997</th>\n",
       "      <td>Master</td>\n",
       "      <td>18</td>\n",
       "      <td>Rural</td>\n",
       "      <td>Analyst</td>\n",
       "      <td>44</td>\n",
       "      <td>Male</td>\n",
       "      <td>98207.026024</td>\n",
       "    </tr>\n",
       "    <tr>\n",
       "      <th>998</th>\n",
       "      <td>Bachelor</td>\n",
       "      <td>27</td>\n",
       "      <td>Suburban</td>\n",
       "      <td>Director</td>\n",
       "      <td>31</td>\n",
       "      <td>Female</td>\n",
       "      <td>108544.922720</td>\n",
       "    </tr>\n",
       "    <tr>\n",
       "      <th>999</th>\n",
       "      <td>High School</td>\n",
       "      <td>25</td>\n",
       "      <td>Urban</td>\n",
       "      <td>Director</td>\n",
       "      <td>41</td>\n",
       "      <td>Female</td>\n",
       "      <td>71077.000066</td>\n",
       "    </tr>\n",
       "  </tbody>\n",
       "</table>\n",
       "<p>1000 rows × 7 columns</p>\n",
       "</div>"
      ],
      "text/plain": [
       "       Education  Experience  Location Job_Title  Age  Gender         Salary\n",
       "0    High School           8     Urban   Manager   63    Male   84620.053665\n",
       "1            PhD          11  Suburban  Director   59    Male  142591.255894\n",
       "2       Bachelor          28  Suburban   Manager   61  Female   97800.255404\n",
       "3    High School          29     Rural  Director   45    Male   96834.671282\n",
       "4            PhD          25     Urban   Analyst   26  Female  132157.786175\n",
       "..           ...         ...       ...       ...  ...     ...            ...\n",
       "995  High School           8  Suburban   Analyst   25  Female   64683.389864\n",
       "996  High School          24     Urban  Engineer   30  Female   74468.205020\n",
       "997       Master          18     Rural   Analyst   44    Male   98207.026024\n",
       "998     Bachelor          27  Suburban  Director   31  Female  108544.922720\n",
       "999  High School          25     Urban  Director   41  Female   71077.000066\n",
       "\n",
       "[1000 rows x 7 columns]"
      ]
     },
     "execution_count": 4,
     "metadata": {},
     "output_type": "execute_result"
    }
   ],
   "source": [
    "dataset2"
   ]
  },
  {
   "cell_type": "code",
   "execution_count": 5,
   "metadata": {
    "execution": {
     "iopub.execute_input": "2025-07-18T05:35:27.722191Z",
     "iopub.status.busy": "2025-07-18T05:35:27.721756Z",
     "iopub.status.idle": "2025-07-18T05:35:27.744916Z",
     "shell.execute_reply": "2025-07-18T05:35:27.744010Z",
     "shell.execute_reply.started": "2025-07-18T05:35:27.722160Z"
    },
    "trusted": true
   },
   "outputs": [
    {
     "data": {
      "text/plain": [
       "Age                                             34.0\n",
       "Gender                                          Male\n",
       "Education Level                           Bachelor's\n",
       "Job Title              Senior Operations Coordinator\n",
       "Years of Experience                              7.0\n",
       "Salary                                       90000.0\n",
       "Name: 373, dtype: object"
      ]
     },
     "execution_count": 5,
     "metadata": {},
     "output_type": "execute_result"
    }
   ],
   "source": [
    "dataset1.iloc[373]"
   ]
  },
  {
   "cell_type": "code",
   "execution_count": 6,
   "metadata": {
    "execution": {
     "iopub.execute_input": "2025-07-18T05:35:27.746260Z",
     "iopub.status.busy": "2025-07-18T05:35:27.745925Z",
     "iopub.status.idle": "2025-07-18T05:35:27.768403Z",
     "shell.execute_reply": "2025-07-18T05:35:27.767155Z",
     "shell.execute_reply.started": "2025-07-18T05:35:27.746230Z"
    },
    "trusted": true
   },
   "outputs": [
    {
     "data": {
      "text/plain": [
       "Age                                       44.0\n",
       "Gender                                  Female\n",
       "Education Level                            PhD\n",
       "Job Title              Senior Business Analyst\n",
       "Years of Experience                       15.0\n",
       "Salary                                150000.0\n",
       "Name: 374, dtype: object"
      ]
     },
     "execution_count": 6,
     "metadata": {},
     "output_type": "execute_result"
    }
   ],
   "source": [
    "dataset1.iloc[374]"
   ]
  },
  {
   "cell_type": "code",
   "execution_count": 7,
   "metadata": {
    "execution": {
     "iopub.execute_input": "2025-07-18T05:35:27.769744Z",
     "iopub.status.busy": "2025-07-18T05:35:27.769422Z",
     "iopub.status.idle": "2025-07-18T05:35:27.815242Z",
     "shell.execute_reply": "2025-07-18T05:35:27.814224Z",
     "shell.execute_reply.started": "2025-07-18T05:35:27.769695Z"
    },
    "trusted": true
   },
   "outputs": [
    {
     "name": "stderr",
     "output_type": "stream",
     "text": [
      "/usr/local/lib/python3.11/dist-packages/pandas/io/formats/format.py:1458: RuntimeWarning: invalid value encountered in greater\n",
      "  has_large_values = (abs_vals > 1e6).any()\n",
      "/usr/local/lib/python3.11/dist-packages/pandas/io/formats/format.py:1459: RuntimeWarning: invalid value encountered in less\n",
      "  has_small_values = ((abs_vals < 10 ** (-self.digits)) & (abs_vals > 0)).any()\n",
      "/usr/local/lib/python3.11/dist-packages/pandas/io/formats/format.py:1459: RuntimeWarning: invalid value encountered in greater\n",
      "  has_small_values = ((abs_vals < 10 ** (-self.digits)) & (abs_vals > 0)).any()\n"
     ]
    },
    {
     "data": {
      "text/html": [
       "<div>\n",
       "<style scoped>\n",
       "    .dataframe tbody tr th:only-of-type {\n",
       "        vertical-align: middle;\n",
       "    }\n",
       "\n",
       "    .dataframe tbody tr th {\n",
       "        vertical-align: top;\n",
       "    }\n",
       "\n",
       "    .dataframe thead th {\n",
       "        text-align: right;\n",
       "    }\n",
       "</style>\n",
       "<table border=\"1\" class=\"dataframe\">\n",
       "  <thead>\n",
       "    <tr style=\"text-align: right;\">\n",
       "      <th></th>\n",
       "      <th>Age</th>\n",
       "      <th>Gender</th>\n",
       "      <th>Education Level</th>\n",
       "      <th>Job Title</th>\n",
       "      <th>Years of Experience</th>\n",
       "      <th>Salary</th>\n",
       "    </tr>\n",
       "  </thead>\n",
       "  <tbody>\n",
       "    <tr>\n",
       "      <th>140</th>\n",
       "      <td>28.0</td>\n",
       "      <td>Male</td>\n",
       "      <td>Bachelor's</td>\n",
       "      <td>Junior Business Analyst</td>\n",
       "      <td>2.0</td>\n",
       "      <td>40000.0</td>\n",
       "    </tr>\n",
       "    <tr>\n",
       "      <th>172</th>\n",
       "      <td>NaN</td>\n",
       "      <td>NaN</td>\n",
       "      <td>NaN</td>\n",
       "      <td>NaN</td>\n",
       "      <td>NaN</td>\n",
       "      <td>NaN</td>\n",
       "    </tr>\n",
       "    <tr>\n",
       "      <th>195</th>\n",
       "      <td>28.0</td>\n",
       "      <td>Male</td>\n",
       "      <td>Bachelor's</td>\n",
       "      <td>Junior Business Analyst</td>\n",
       "      <td>2.0</td>\n",
       "      <td>40000.0</td>\n",
       "    </tr>\n",
       "    <tr>\n",
       "      <th>209</th>\n",
       "      <td>30.0</td>\n",
       "      <td>Female</td>\n",
       "      <td>Bachelor's</td>\n",
       "      <td>Junior Marketing Coordinator</td>\n",
       "      <td>2.0</td>\n",
       "      <td>40000.0</td>\n",
       "    </tr>\n",
       "    <tr>\n",
       "      <th>210</th>\n",
       "      <td>38.0</td>\n",
       "      <td>Male</td>\n",
       "      <td>Master's</td>\n",
       "      <td>Senior IT Consultant</td>\n",
       "      <td>9.0</td>\n",
       "      <td>110000.0</td>\n",
       "    </tr>\n",
       "    <tr>\n",
       "      <th>...</th>\n",
       "      <td>...</td>\n",
       "      <td>...</td>\n",
       "      <td>...</td>\n",
       "      <td>...</td>\n",
       "      <td>...</td>\n",
       "      <td>...</td>\n",
       "    </tr>\n",
       "    <tr>\n",
       "      <th>369</th>\n",
       "      <td>33.0</td>\n",
       "      <td>Male</td>\n",
       "      <td>Bachelor's</td>\n",
       "      <td>Junior Business Analyst</td>\n",
       "      <td>4.0</td>\n",
       "      <td>60000.0</td>\n",
       "    </tr>\n",
       "    <tr>\n",
       "      <th>370</th>\n",
       "      <td>35.0</td>\n",
       "      <td>Female</td>\n",
       "      <td>Bachelor's</td>\n",
       "      <td>Senior Marketing Analyst</td>\n",
       "      <td>8.0</td>\n",
       "      <td>85000.0</td>\n",
       "    </tr>\n",
       "    <tr>\n",
       "      <th>372</th>\n",
       "      <td>29.0</td>\n",
       "      <td>Female</td>\n",
       "      <td>Bachelor's</td>\n",
       "      <td>Junior Project Manager</td>\n",
       "      <td>2.0</td>\n",
       "      <td>40000.0</td>\n",
       "    </tr>\n",
       "    <tr>\n",
       "      <th>373</th>\n",
       "      <td>34.0</td>\n",
       "      <td>Male</td>\n",
       "      <td>Bachelor's</td>\n",
       "      <td>Senior Operations Coordinator</td>\n",
       "      <td>7.0</td>\n",
       "      <td>90000.0</td>\n",
       "    </tr>\n",
       "    <tr>\n",
       "      <th>374</th>\n",
       "      <td>44.0</td>\n",
       "      <td>Female</td>\n",
       "      <td>PhD</td>\n",
       "      <td>Senior Business Analyst</td>\n",
       "      <td>15.0</td>\n",
       "      <td>150000.0</td>\n",
       "    </tr>\n",
       "  </tbody>\n",
       "</table>\n",
       "<p>90 rows × 6 columns</p>\n",
       "</div>"
      ],
      "text/plain": [
       "      Age  Gender Education Level                      Job Title  \\\n",
       "140  28.0    Male      Bachelor's        Junior Business Analyst   \n",
       "172   NaN     NaN             NaN                            NaN   \n",
       "195  28.0    Male      Bachelor's        Junior Business Analyst   \n",
       "209  30.0  Female      Bachelor's   Junior Marketing Coordinator   \n",
       "210  38.0    Male        Master's           Senior IT Consultant   \n",
       "..    ...     ...             ...                            ...   \n",
       "369  33.0    Male      Bachelor's        Junior Business Analyst   \n",
       "370  35.0  Female      Bachelor's       Senior Marketing Analyst   \n",
       "372  29.0  Female      Bachelor's         Junior Project Manager   \n",
       "373  34.0    Male      Bachelor's  Senior Operations Coordinator   \n",
       "374  44.0  Female             PhD        Senior Business Analyst   \n",
       "\n",
       "     Years of Experience    Salary  \n",
       "140                  2.0   40000.0  \n",
       "172                  NaN       NaN  \n",
       "195                  2.0   40000.0  \n",
       "209                  2.0   40000.0  \n",
       "210                  9.0  110000.0  \n",
       "..                   ...       ...  \n",
       "369                  4.0   60000.0  \n",
       "370                  8.0   85000.0  \n",
       "372                  2.0   40000.0  \n",
       "373                  7.0   90000.0  \n",
       "374                 15.0  150000.0  \n",
       "\n",
       "[90 rows x 6 columns]"
      ]
     },
     "execution_count": 7,
     "metadata": {},
     "output_type": "execute_result"
    }
   ],
   "source": [
    "# # To find all duplicate rows in dataset1\n",
    "# duplicates = dataset1[dataset1.duplicated()]\n",
    "# duplicates\n",
    "\n",
    "# If you want to include all duplicates (not just the later ones), use:\n",
    "duplicates_all = dataset1[dataset1.duplicated(keep=False)]\n",
    "duplicates_all"
   ]
  },
  {
   "cell_type": "code",
   "execution_count": 8,
   "metadata": {
    "execution": {
     "iopub.execute_input": "2025-07-18T05:35:27.816665Z",
     "iopub.status.busy": "2025-07-18T05:35:27.816352Z",
     "iopub.status.idle": "2025-07-18T05:35:27.824151Z",
     "shell.execute_reply": "2025-07-18T05:35:27.823201Z",
     "shell.execute_reply.started": "2025-07-18T05:35:27.816637Z"
    },
    "trusted": true
   },
   "outputs": [
    {
     "name": "stdout",
     "output_type": "stream",
     "text": [
      "Index(['Age', 'Gender', 'Education Level', 'Job Title', 'Years of Experience',\n",
      "       'Salary'],\n",
      "      dtype='object')\n",
      "Index(['Education', 'Experience', 'Location', 'Job_Title', 'Age', 'Gender',\n",
      "       'Salary'],\n",
      "      dtype='object')\n",
      "Index(['exp(in months)', 'salary(in thousands)'], dtype='object')\n"
     ]
    }
   ],
   "source": [
    "print(dataset1.columns)\n",
    "print(dataset2.columns)\n",
    "print(dataset3.columns)"
   ]
  },
  {
   "cell_type": "code",
   "execution_count": 9,
   "metadata": {
    "execution": {
     "iopub.execute_input": "2025-07-18T05:35:27.825586Z",
     "iopub.status.busy": "2025-07-18T05:35:27.825294Z",
     "iopub.status.idle": "2025-07-18T05:35:27.848927Z",
     "shell.execute_reply": "2025-07-18T05:35:27.847837Z",
     "shell.execute_reply.started": "2025-07-18T05:35:27.825560Z"
    },
    "trusted": true
   },
   "outputs": [],
   "source": [
    "dataset2.rename(columns={'Education':'Education Level','Experience':'Years of Experience','Job_Title':'Job Title'}, inplace=True)"
   ]
  },
  {
   "cell_type": "code",
   "execution_count": 10,
   "metadata": {
    "execution": {
     "iopub.execute_input": "2025-07-18T05:35:27.850164Z",
     "iopub.status.busy": "2025-07-18T05:35:27.849907Z",
     "iopub.status.idle": "2025-07-18T05:35:27.869899Z",
     "shell.execute_reply": "2025-07-18T05:35:27.868944Z",
     "shell.execute_reply.started": "2025-07-18T05:35:27.850119Z"
    },
    "trusted": true
   },
   "outputs": [],
   "source": [
    "dataset3.rename(columns={'exp(in months)':'Years of Experience','salary(in thousands)':'Salary'}, inplace=True)"
   ]
  },
  {
   "cell_type": "code",
   "execution_count": 11,
   "metadata": {
    "execution": {
     "iopub.execute_input": "2025-07-18T05:35:27.871201Z",
     "iopub.status.busy": "2025-07-18T05:35:27.870866Z",
     "iopub.status.idle": "2025-07-18T05:35:27.899793Z",
     "shell.execute_reply": "2025-07-18T05:35:27.898868Z",
     "shell.execute_reply.started": "2025-07-18T05:35:27.871170Z"
    },
    "trusted": true
   },
   "outputs": [
    {
     "data": {
      "text/html": [
       "<div>\n",
       "<style scoped>\n",
       "    .dataframe tbody tr th:only-of-type {\n",
       "        vertical-align: middle;\n",
       "    }\n",
       "\n",
       "    .dataframe tbody tr th {\n",
       "        vertical-align: top;\n",
       "    }\n",
       "\n",
       "    .dataframe thead th {\n",
       "        text-align: right;\n",
       "    }\n",
       "</style>\n",
       "<table border=\"1\" class=\"dataframe\">\n",
       "  <thead>\n",
       "    <tr style=\"text-align: right;\">\n",
       "      <th></th>\n",
       "      <th>Years of Experience</th>\n",
       "      <th>Salary</th>\n",
       "    </tr>\n",
       "  </thead>\n",
       "  <tbody>\n",
       "    <tr>\n",
       "      <th>0</th>\n",
       "      <td>18.290293</td>\n",
       "      <td>16.521825</td>\n",
       "    </tr>\n",
       "    <tr>\n",
       "      <th>1</th>\n",
       "      <td>17.023407</td>\n",
       "      <td>11.666234</td>\n",
       "    </tr>\n",
       "    <tr>\n",
       "      <th>2</th>\n",
       "      <td>26.343613</td>\n",
       "      <td>23.167255</td>\n",
       "    </tr>\n",
       "    <tr>\n",
       "      <th>3</th>\n",
       "      <td>19.105834</td>\n",
       "      <td>20.877145</td>\n",
       "    </tr>\n",
       "    <tr>\n",
       "      <th>4</th>\n",
       "      <td>27.742516</td>\n",
       "      <td>23.166236</td>\n",
       "    </tr>\n",
       "    <tr>\n",
       "      <th>...</th>\n",
       "      <td>...</td>\n",
       "      <td>...</td>\n",
       "    </tr>\n",
       "    <tr>\n",
       "      <th>995</th>\n",
       "      <td>22.161741</td>\n",
       "      <td>24.666502</td>\n",
       "    </tr>\n",
       "    <tr>\n",
       "      <th>996</th>\n",
       "      <td>32.266497</td>\n",
       "      <td>24.160270</td>\n",
       "    </tr>\n",
       "    <tr>\n",
       "      <th>997</th>\n",
       "      <td>17.039030</td>\n",
       "      <td>19.903797</td>\n",
       "    </tr>\n",
       "    <tr>\n",
       "      <th>998</th>\n",
       "      <td>25.222124</td>\n",
       "      <td>21.974413</td>\n",
       "    </tr>\n",
       "    <tr>\n",
       "      <th>999</th>\n",
       "      <td>16.418028</td>\n",
       "      <td>19.634787</td>\n",
       "    </tr>\n",
       "  </tbody>\n",
       "</table>\n",
       "<p>1000 rows × 2 columns</p>\n",
       "</div>"
      ],
      "text/plain": [
       "     Years of Experience     Salary\n",
       "0              18.290293  16.521825\n",
       "1              17.023407  11.666234\n",
       "2              26.343613  23.167255\n",
       "3              19.105834  20.877145\n",
       "4              27.742516  23.166236\n",
       "..                   ...        ...\n",
       "995            22.161741  24.666502\n",
       "996            32.266497  24.160270\n",
       "997            17.039030  19.903797\n",
       "998            25.222124  21.974413\n",
       "999            16.418028  19.634787\n",
       "\n",
       "[1000 rows x 2 columns]"
      ]
     },
     "execution_count": 11,
     "metadata": {},
     "output_type": "execute_result"
    }
   ],
   "source": [
    "dataset3"
   ]
  },
  {
   "cell_type": "code",
   "execution_count": 12,
   "metadata": {
    "execution": {
     "iopub.execute_input": "2025-07-18T05:35:27.901263Z",
     "iopub.status.busy": "2025-07-18T05:35:27.900963Z",
     "iopub.status.idle": "2025-07-18T05:35:27.934810Z",
     "shell.execute_reply": "2025-07-18T05:35:27.933976Z",
     "shell.execute_reply.started": "2025-07-18T05:35:27.901241Z"
    },
    "trusted": true
   },
   "outputs": [
    {
     "name": "stdout",
     "output_type": "stream",
     "text": [
      "<class 'pandas.core.frame.DataFrame'>\n",
      "RangeIndex: 375 entries, 0 to 374\n",
      "Data columns (total 6 columns):\n",
      " #   Column               Non-Null Count  Dtype  \n",
      "---  ------               --------------  -----  \n",
      " 0   Age                  373 non-null    float64\n",
      " 1   Gender               373 non-null    object \n",
      " 2   Education Level      373 non-null    object \n",
      " 3   Job Title            373 non-null    object \n",
      " 4   Years of Experience  373 non-null    float64\n",
      " 5   Salary               373 non-null    float64\n",
      "dtypes: float64(3), object(3)\n",
      "memory usage: 17.7+ KB\n"
     ]
    }
   ],
   "source": [
    "dataset1.info()"
   ]
  },
  {
   "cell_type": "code",
   "execution_count": 13,
   "metadata": {
    "execution": {
     "iopub.execute_input": "2025-07-18T05:35:27.936076Z",
     "iopub.status.busy": "2025-07-18T05:35:27.935778Z",
     "iopub.status.idle": "2025-07-18T05:35:27.962411Z",
     "shell.execute_reply": "2025-07-18T05:35:27.961239Z",
     "shell.execute_reply.started": "2025-07-18T05:35:27.936047Z"
    },
    "trusted": true
   },
   "outputs": [
    {
     "name": "stdout",
     "output_type": "stream",
     "text": [
      "<class 'pandas.core.frame.DataFrame'>\n",
      "RangeIndex: 1000 entries, 0 to 999\n",
      "Data columns (total 7 columns):\n",
      " #   Column               Non-Null Count  Dtype  \n",
      "---  ------               --------------  -----  \n",
      " 0   Education Level      1000 non-null   object \n",
      " 1   Years of Experience  1000 non-null   int64  \n",
      " 2   Location             1000 non-null   object \n",
      " 3   Job Title            1000 non-null   object \n",
      " 4   Age                  1000 non-null   int64  \n",
      " 5   Gender               1000 non-null   object \n",
      " 6   Salary               1000 non-null   float64\n",
      "dtypes: float64(1), int64(2), object(4)\n",
      "memory usage: 54.8+ KB\n"
     ]
    }
   ],
   "source": [
    "dataset2.info()"
   ]
  },
  {
   "cell_type": "code",
   "execution_count": 14,
   "metadata": {
    "execution": {
     "iopub.execute_input": "2025-07-18T05:35:27.967967Z",
     "iopub.status.busy": "2025-07-18T05:35:27.967550Z",
     "iopub.status.idle": "2025-07-18T05:35:27.989436Z",
     "shell.execute_reply": "2025-07-18T05:35:27.988246Z",
     "shell.execute_reply.started": "2025-07-18T05:35:27.967933Z"
    },
    "trusted": true
   },
   "outputs": [],
   "source": [
    "dataset2= dataset2.astype({'Years of Experience':'float64','Age':'float64'})"
   ]
  },
  {
   "cell_type": "code",
   "execution_count": 15,
   "metadata": {
    "execution": {
     "iopub.execute_input": "2025-07-18T05:35:27.990861Z",
     "iopub.status.busy": "2025-07-18T05:35:27.990524Z",
     "iopub.status.idle": "2025-07-18T05:35:28.022175Z",
     "shell.execute_reply": "2025-07-18T05:35:28.021189Z",
     "shell.execute_reply.started": "2025-07-18T05:35:27.990832Z"
    },
    "trusted": true
   },
   "outputs": [
    {
     "data": {
      "text/html": [
       "<div>\n",
       "<style scoped>\n",
       "    .dataframe tbody tr th:only-of-type {\n",
       "        vertical-align: middle;\n",
       "    }\n",
       "\n",
       "    .dataframe tbody tr th {\n",
       "        vertical-align: top;\n",
       "    }\n",
       "\n",
       "    .dataframe thead th {\n",
       "        text-align: right;\n",
       "    }\n",
       "</style>\n",
       "<table border=\"1\" class=\"dataframe\">\n",
       "  <thead>\n",
       "    <tr style=\"text-align: right;\">\n",
       "      <th></th>\n",
       "      <th>Age</th>\n",
       "      <th>Gender</th>\n",
       "      <th>Education Level</th>\n",
       "      <th>Job Title</th>\n",
       "      <th>Years of Experience</th>\n",
       "      <th>Salary</th>\n",
       "    </tr>\n",
       "  </thead>\n",
       "  <tbody>\n",
       "    <tr>\n",
       "      <th>0</th>\n",
       "      <td>32.0</td>\n",
       "      <td>Male</td>\n",
       "      <td>Bachelor's</td>\n",
       "      <td>Software Engineer</td>\n",
       "      <td>5.0</td>\n",
       "      <td>90000.0</td>\n",
       "    </tr>\n",
       "    <tr>\n",
       "      <th>1</th>\n",
       "      <td>28.0</td>\n",
       "      <td>Female</td>\n",
       "      <td>Master's</td>\n",
       "      <td>Data Analyst</td>\n",
       "      <td>3.0</td>\n",
       "      <td>65000.0</td>\n",
       "    </tr>\n",
       "    <tr>\n",
       "      <th>2</th>\n",
       "      <td>45.0</td>\n",
       "      <td>Male</td>\n",
       "      <td>PhD</td>\n",
       "      <td>Senior Manager</td>\n",
       "      <td>15.0</td>\n",
       "      <td>150000.0</td>\n",
       "    </tr>\n",
       "    <tr>\n",
       "      <th>3</th>\n",
       "      <td>36.0</td>\n",
       "      <td>Female</td>\n",
       "      <td>Bachelor's</td>\n",
       "      <td>Sales Associate</td>\n",
       "      <td>7.0</td>\n",
       "      <td>60000.0</td>\n",
       "    </tr>\n",
       "    <tr>\n",
       "      <th>4</th>\n",
       "      <td>52.0</td>\n",
       "      <td>Male</td>\n",
       "      <td>Master's</td>\n",
       "      <td>Director</td>\n",
       "      <td>20.0</td>\n",
       "      <td>200000.0</td>\n",
       "    </tr>\n",
       "    <tr>\n",
       "      <th>...</th>\n",
       "      <td>...</td>\n",
       "      <td>...</td>\n",
       "      <td>...</td>\n",
       "      <td>...</td>\n",
       "      <td>...</td>\n",
       "      <td>...</td>\n",
       "    </tr>\n",
       "    <tr>\n",
       "      <th>370</th>\n",
       "      <td>35.0</td>\n",
       "      <td>Female</td>\n",
       "      <td>Bachelor's</td>\n",
       "      <td>Senior Marketing Analyst</td>\n",
       "      <td>8.0</td>\n",
       "      <td>85000.0</td>\n",
       "    </tr>\n",
       "    <tr>\n",
       "      <th>371</th>\n",
       "      <td>43.0</td>\n",
       "      <td>Male</td>\n",
       "      <td>Master's</td>\n",
       "      <td>Director of Operations</td>\n",
       "      <td>19.0</td>\n",
       "      <td>170000.0</td>\n",
       "    </tr>\n",
       "    <tr>\n",
       "      <th>372</th>\n",
       "      <td>29.0</td>\n",
       "      <td>Female</td>\n",
       "      <td>Bachelor's</td>\n",
       "      <td>Junior Project Manager</td>\n",
       "      <td>2.0</td>\n",
       "      <td>40000.0</td>\n",
       "    </tr>\n",
       "    <tr>\n",
       "      <th>373</th>\n",
       "      <td>34.0</td>\n",
       "      <td>Male</td>\n",
       "      <td>Bachelor's</td>\n",
       "      <td>Senior Operations Coordinator</td>\n",
       "      <td>7.0</td>\n",
       "      <td>90000.0</td>\n",
       "    </tr>\n",
       "    <tr>\n",
       "      <th>374</th>\n",
       "      <td>44.0</td>\n",
       "      <td>Female</td>\n",
       "      <td>PhD</td>\n",
       "      <td>Senior Business Analyst</td>\n",
       "      <td>15.0</td>\n",
       "      <td>150000.0</td>\n",
       "    </tr>\n",
       "  </tbody>\n",
       "</table>\n",
       "<p>375 rows × 6 columns</p>\n",
       "</div>"
      ],
      "text/plain": [
       "      Age  Gender Education Level                      Job Title  \\\n",
       "0    32.0    Male      Bachelor's              Software Engineer   \n",
       "1    28.0  Female        Master's                   Data Analyst   \n",
       "2    45.0    Male             PhD                 Senior Manager   \n",
       "3    36.0  Female      Bachelor's                Sales Associate   \n",
       "4    52.0    Male        Master's                       Director   \n",
       "..    ...     ...             ...                            ...   \n",
       "370  35.0  Female      Bachelor's       Senior Marketing Analyst   \n",
       "371  43.0    Male        Master's         Director of Operations   \n",
       "372  29.0  Female      Bachelor's         Junior Project Manager   \n",
       "373  34.0    Male      Bachelor's  Senior Operations Coordinator   \n",
       "374  44.0  Female             PhD        Senior Business Analyst   \n",
       "\n",
       "     Years of Experience    Salary  \n",
       "0                    5.0   90000.0  \n",
       "1                    3.0   65000.0  \n",
       "2                   15.0  150000.0  \n",
       "3                    7.0   60000.0  \n",
       "4                   20.0  200000.0  \n",
       "..                   ...       ...  \n",
       "370                  8.0   85000.0  \n",
       "371                 19.0  170000.0  \n",
       "372                  2.0   40000.0  \n",
       "373                  7.0   90000.0  \n",
       "374                 15.0  150000.0  \n",
       "\n",
       "[375 rows x 6 columns]"
      ]
     },
     "execution_count": 15,
     "metadata": {},
     "output_type": "execute_result"
    }
   ],
   "source": [
    "dataset1"
   ]
  },
  {
   "cell_type": "code",
   "execution_count": 16,
   "metadata": {
    "execution": {
     "iopub.execute_input": "2025-07-18T05:35:28.023748Z",
     "iopub.status.busy": "2025-07-18T05:35:28.023333Z",
     "iopub.status.idle": "2025-07-18T05:35:28.050346Z",
     "shell.execute_reply": "2025-07-18T05:35:28.049475Z",
     "shell.execute_reply.started": "2025-07-18T05:35:28.023718Z"
    },
    "trusted": true
   },
   "outputs": [
    {
     "data": {
      "text/html": [
       "<div>\n",
       "<style scoped>\n",
       "    .dataframe tbody tr th:only-of-type {\n",
       "        vertical-align: middle;\n",
       "    }\n",
       "\n",
       "    .dataframe tbody tr th {\n",
       "        vertical-align: top;\n",
       "    }\n",
       "\n",
       "    .dataframe thead th {\n",
       "        text-align: right;\n",
       "    }\n",
       "</style>\n",
       "<table border=\"1\" class=\"dataframe\">\n",
       "  <thead>\n",
       "    <tr style=\"text-align: right;\">\n",
       "      <th></th>\n",
       "      <th>Years of Experience</th>\n",
       "      <th>Salary</th>\n",
       "    </tr>\n",
       "  </thead>\n",
       "  <tbody>\n",
       "    <tr>\n",
       "      <th>0</th>\n",
       "      <td>18.290293</td>\n",
       "      <td>16.521825</td>\n",
       "    </tr>\n",
       "    <tr>\n",
       "      <th>1</th>\n",
       "      <td>17.023407</td>\n",
       "      <td>11.666234</td>\n",
       "    </tr>\n",
       "    <tr>\n",
       "      <th>2</th>\n",
       "      <td>26.343613</td>\n",
       "      <td>23.167255</td>\n",
       "    </tr>\n",
       "    <tr>\n",
       "      <th>3</th>\n",
       "      <td>19.105834</td>\n",
       "      <td>20.877145</td>\n",
       "    </tr>\n",
       "    <tr>\n",
       "      <th>4</th>\n",
       "      <td>27.742516</td>\n",
       "      <td>23.166236</td>\n",
       "    </tr>\n",
       "    <tr>\n",
       "      <th>...</th>\n",
       "      <td>...</td>\n",
       "      <td>...</td>\n",
       "    </tr>\n",
       "    <tr>\n",
       "      <th>995</th>\n",
       "      <td>22.161741</td>\n",
       "      <td>24.666502</td>\n",
       "    </tr>\n",
       "    <tr>\n",
       "      <th>996</th>\n",
       "      <td>32.266497</td>\n",
       "      <td>24.160270</td>\n",
       "    </tr>\n",
       "    <tr>\n",
       "      <th>997</th>\n",
       "      <td>17.039030</td>\n",
       "      <td>19.903797</td>\n",
       "    </tr>\n",
       "    <tr>\n",
       "      <th>998</th>\n",
       "      <td>25.222124</td>\n",
       "      <td>21.974413</td>\n",
       "    </tr>\n",
       "    <tr>\n",
       "      <th>999</th>\n",
       "      <td>16.418028</td>\n",
       "      <td>19.634787</td>\n",
       "    </tr>\n",
       "  </tbody>\n",
       "</table>\n",
       "<p>1000 rows × 2 columns</p>\n",
       "</div>"
      ],
      "text/plain": [
       "     Years of Experience     Salary\n",
       "0              18.290293  16.521825\n",
       "1              17.023407  11.666234\n",
       "2              26.343613  23.167255\n",
       "3              19.105834  20.877145\n",
       "4              27.742516  23.166236\n",
       "..                   ...        ...\n",
       "995            22.161741  24.666502\n",
       "996            32.266497  24.160270\n",
       "997            17.039030  19.903797\n",
       "998            25.222124  21.974413\n",
       "999            16.418028  19.634787\n",
       "\n",
       "[1000 rows x 2 columns]"
      ]
     },
     "execution_count": 16,
     "metadata": {},
     "output_type": "execute_result"
    }
   ],
   "source": [
    "dataset3"
   ]
  },
  {
   "cell_type": "code",
   "execution_count": 17,
   "metadata": {
    "execution": {
     "iopub.execute_input": "2025-07-18T05:35:28.051699Z",
     "iopub.status.busy": "2025-07-18T05:35:28.051321Z",
     "iopub.status.idle": "2025-07-18T05:35:28.070611Z",
     "shell.execute_reply": "2025-07-18T05:35:28.069533Z",
     "shell.execute_reply.started": "2025-07-18T05:35:28.051665Z"
    },
    "trusted": true
   },
   "outputs": [],
   "source": [
    "dataset1.dropna(inplace=True)"
   ]
  },
  {
   "cell_type": "code",
   "execution_count": 18,
   "metadata": {
    "execution": {
     "iopub.execute_input": "2025-07-18T05:35:28.072234Z",
     "iopub.status.busy": "2025-07-18T05:35:28.071825Z",
     "iopub.status.idle": "2025-07-18T05:35:28.119009Z",
     "shell.execute_reply": "2025-07-18T05:35:28.118004Z",
     "shell.execute_reply.started": "2025-07-18T05:35:28.072203Z"
    },
    "trusted": true
   },
   "outputs": [
    {
     "data": {
      "text/html": [
       "<div>\n",
       "<style scoped>\n",
       "    .dataframe tbody tr th:only-of-type {\n",
       "        vertical-align: middle;\n",
       "    }\n",
       "\n",
       "    .dataframe tbody tr th {\n",
       "        vertical-align: top;\n",
       "    }\n",
       "\n",
       "    .dataframe thead th {\n",
       "        text-align: right;\n",
       "    }\n",
       "</style>\n",
       "<table border=\"1\" class=\"dataframe\">\n",
       "  <thead>\n",
       "    <tr style=\"text-align: right;\">\n",
       "      <th></th>\n",
       "      <th>Age</th>\n",
       "      <th>Years of Experience</th>\n",
       "      <th>Salary</th>\n",
       "    </tr>\n",
       "  </thead>\n",
       "  <tbody>\n",
       "    <tr>\n",
       "      <th>count</th>\n",
       "      <td>373.000000</td>\n",
       "      <td>373.000000</td>\n",
       "      <td>373.000000</td>\n",
       "    </tr>\n",
       "    <tr>\n",
       "      <th>mean</th>\n",
       "      <td>37.431635</td>\n",
       "      <td>10.030831</td>\n",
       "      <td>100577.345845</td>\n",
       "    </tr>\n",
       "    <tr>\n",
       "      <th>std</th>\n",
       "      <td>7.069073</td>\n",
       "      <td>6.557007</td>\n",
       "      <td>48240.013482</td>\n",
       "    </tr>\n",
       "    <tr>\n",
       "      <th>min</th>\n",
       "      <td>23.000000</td>\n",
       "      <td>0.000000</td>\n",
       "      <td>350.000000</td>\n",
       "    </tr>\n",
       "    <tr>\n",
       "      <th>25%</th>\n",
       "      <td>31.000000</td>\n",
       "      <td>4.000000</td>\n",
       "      <td>55000.000000</td>\n",
       "    </tr>\n",
       "    <tr>\n",
       "      <th>50%</th>\n",
       "      <td>36.000000</td>\n",
       "      <td>9.000000</td>\n",
       "      <td>95000.000000</td>\n",
       "    </tr>\n",
       "    <tr>\n",
       "      <th>75%</th>\n",
       "      <td>44.000000</td>\n",
       "      <td>15.000000</td>\n",
       "      <td>140000.000000</td>\n",
       "    </tr>\n",
       "    <tr>\n",
       "      <th>max</th>\n",
       "      <td>53.000000</td>\n",
       "      <td>25.000000</td>\n",
       "      <td>250000.000000</td>\n",
       "    </tr>\n",
       "  </tbody>\n",
       "</table>\n",
       "</div>"
      ],
      "text/plain": [
       "              Age  Years of Experience         Salary\n",
       "count  373.000000           373.000000     373.000000\n",
       "mean    37.431635            10.030831  100577.345845\n",
       "std      7.069073             6.557007   48240.013482\n",
       "min     23.000000             0.000000     350.000000\n",
       "25%     31.000000             4.000000   55000.000000\n",
       "50%     36.000000             9.000000   95000.000000\n",
       "75%     44.000000            15.000000  140000.000000\n",
       "max     53.000000            25.000000  250000.000000"
      ]
     },
     "execution_count": 18,
     "metadata": {},
     "output_type": "execute_result"
    }
   ],
   "source": [
    "dataset1.describe()"
   ]
  },
  {
   "cell_type": "markdown",
   "metadata": {},
   "source": [
    "# We do exploratory data analysis"
   ]
  },
  {
   "cell_type": "markdown",
   "metadata": {},
   "source": [
    "# From here i am moving forward with only one dataset i.e. dataset1"
   ]
  },
  {
   "cell_type": "markdown",
   "metadata": {},
   "source": [
    "# Univariate Data Analysis \n",
    "## 1. Categorical plot\n",
    "\n",
    "## a. Countplot\n",
    "## Jab bhi koi categorical plot karna ho sabse pehle count plot karlo"
   ]
  },
  {
   "cell_type": "markdown",
   "metadata": {},
   "source": [
    "# Categorical Data Columns\n",
    "* Gender->Nominal Data->One hot Encoding\n",
    "* Education Level->Ordinal Data->Ordinal Encoder\n",
    "* Job Title->Ordinal Data->Ordinal Encoder"
   ]
  },
  {
   "cell_type": "code",
   "execution_count": 19,
   "metadata": {
    "execution": {
     "iopub.execute_input": "2025-07-18T05:35:28.120530Z",
     "iopub.status.busy": "2025-07-18T05:35:28.120182Z",
     "iopub.status.idle": "2025-07-18T05:35:29.203435Z",
     "shell.execute_reply": "2025-07-18T05:35:29.202162Z",
     "shell.execute_reply.started": "2025-07-18T05:35:28.120498Z"
    },
    "trusted": true
   },
   "outputs": [],
   "source": [
    "import seaborn as sns \n",
    "import matplotlib.pyplot as plt"
   ]
  },
  {
   "cell_type": "code",
   "execution_count": 20,
   "metadata": {
    "execution": {
     "iopub.execute_input": "2025-07-18T05:35:29.205254Z",
     "iopub.status.busy": "2025-07-18T05:35:29.204661Z",
     "iopub.status.idle": "2025-07-18T05:35:29.749005Z",
     "shell.execute_reply": "2025-07-18T05:35:29.747778Z",
     "shell.execute_reply.started": "2025-07-18T05:35:29.205229Z"
    },
    "trusted": true
   },
   "outputs": [
    {
     "data": {
      "image/png": "[encoded data removed]",
      "text/plain": [
       "<Figure size 1800x500 with 2 Axes>"
      ]
     },
     "metadata": {},
     "output_type": "display_data"
    }
   ],
   "source": [
    "# plot the graph using the default estimator mean\n",
    "# Set up the figure with one row and three columns\n",
    "fig, axes = plt.subplots(1, 2, figsize=(18, 5))\n",
    "\n",
    "# Plot 1: Count plot for area_type\n",
    "sns.countplot(x='Gender', data=dataset1, ax=axes[0], palette=\"Set2\")\n",
    "axes[0].set_title('Gender Distribution')\n",
    "axes[0].tick_params(axis='x', rotation=45)\n",
    "\n",
    "# Plot 2: Count plot for bath\n",
    "sns.countplot(x='Education Level', data=dataset1, ax=axes[1], palette=\"Set1\")\n",
    "axes[1].set_title('Education Level Distribution')\n",
    "\n",
    "# # Plot 3: Count plot for balcony\n",
    "# sns.countplot(x='Job Title', data=dataset1, ax=axes[2], palette=\"Set3\")\n",
    "# axes[2].set_title('Job Title Distribution')\n",
    "\n",
    "# Improve layout and display\n",
    "plt.show()"
   ]
  },
  {
   "cell_type": "markdown",
   "metadata": {},
   "source": [
    "# b. PieChart"
   ]
  },
  {
   "cell_type": "code",
   "execution_count": 21,
   "metadata": {
    "execution": {
     "iopub.execute_input": "2025-07-18T05:35:29.751531Z",
     "iopub.status.busy": "2025-07-18T05:35:29.751168Z",
     "iopub.status.idle": "2025-07-18T05:35:30.058609Z",
     "shell.execute_reply": "2025-07-18T05:35:30.057414Z",
     "shell.execute_reply.started": "2025-07-18T05:35:29.751507Z"
    },
    "trusted": true
   },
   "outputs": [
    {
     "data": {
      "image/png": "[encoded data removed]",
      "text/plain": [
       "<Figure size 1800x500 with 2 Axes>"
      ]
     },
     "metadata": {},
     "output_type": "display_data"
    }
   ],
   "source": [
    "# Creating pie charts based on the count of unique values in the same columns.\n",
    "\n",
    "# Set up the figure with one row and three columns\n",
    "fig, axes = plt.subplots(1, 2, figsize=(18, 5))\n",
    "\n",
    "# Plot 1: Pie chart for area_type\n",
    "area_type_counts = dataset1['Gender'].value_counts()\n",
    "axes[0].pie(area_type_counts, labels=area_type_counts.index, autopct='%1.1f%%', colors=sns.color_palette(\"Set2\"))\n",
    "axes[0].set_title('Gender Distribution')\n",
    "\n",
    "# Plot 2: Pie chart for bath\n",
    "bath_counts = dataset1['Education Level'].value_counts()\n",
    "axes[1].pie(bath_counts, labels=bath_counts.index, autopct='%1.1f%%', colors=sns.color_palette(\"Set1\"))\n",
    "axes[1].set_title('Education Level Distribution')\n",
    "\n",
    "# # Plot 3: Pie chart for balcony\n",
    "# balcony_counts = dataset1['Job Title'].value_counts()\n",
    "# axes[2].pie(balcony_counts, labels=balcony_counts.index, autopct='%1.1f%%', colors=sns.color_palette(\"Set3\"))\n",
    "# axes[2].set_title('Job Title Distribution')\n",
    "\n",
    "# Improve layout and display\n",
    "plt.tight_layout()\n",
    "plt.show()\n"
   ]
  },
  {
   "cell_type": "markdown",
   "metadata": {},
   "source": [
    "# 2. Numerical Plot¶\n",
    "## a. Histogram Plot"
   ]
  },
  {
   "cell_type": "code",
   "execution_count": 22,
   "metadata": {
    "execution": {
     "iopub.execute_input": "2025-07-18T05:35:30.060969Z",
     "iopub.status.busy": "2025-07-18T05:35:30.060621Z",
     "iopub.status.idle": "2025-07-18T05:35:30.068321Z",
     "shell.execute_reply": "2025-07-18T05:35:30.067216Z",
     "shell.execute_reply.started": "2025-07-18T05:35:30.060926Z"
    },
    "trusted": true
   },
   "outputs": [],
   "source": [
    "# # Set style for better aesthetics\n",
    "# sns.set(style=\"whitegrid\")\n",
    "\n",
    "# # Create a figure and an array of subplots (3 rows, 1 column)\n",
    "# fig, axes = plt.subplots(3, 1, figsize=(10, 18))  # 3 rows, 1 column\n",
    "\n",
    "# # Adjust the layout for better spacing\n",
    "# plt.subplots_adjust(hspace=0.4)\n",
    "\n",
    "# # Plot Job Title distribution\n",
    "# sns.histplot(dataset1['Job Title'], bins=20, color='skyblue', ax=axes[0], kde=True)\n",
    "# axes[0].set_title('Distribution of Job Title', fontsize=16)\n",
    "# axes[0].set_xlabel('Job Title', fontsize=12)\n",
    "# axes[0].set_ylabel('Frequency', fontsize=12)"
   ]
  },
  {
   "cell_type": "code",
   "execution_count": 23,
   "metadata": {
    "execution": {
     "iopub.execute_input": "2025-07-18T05:35:30.069828Z",
     "iopub.status.busy": "2025-07-18T05:35:30.069528Z",
     "iopub.status.idle": "2025-07-18T05:35:30.110437Z",
     "shell.execute_reply": "2025-07-18T05:35:30.108803Z",
     "shell.execute_reply.started": "2025-07-18T05:35:30.069801Z"
    },
    "trusted": true
   },
   "outputs": [
    {
     "data": {
      "text/plain": [
       "Index(['Age', 'Gender', 'Education Level', 'Job Title', 'Years of Experience',\n",
       "       'Salary'],\n",
       "      dtype='object')"
      ]
     },
     "execution_count": 23,
     "metadata": {},
     "output_type": "execute_result"
    }
   ],
   "source": [
    "dataset1.columns"
   ]
  },
  {
   "cell_type": "markdown",
   "metadata": {},
   "source": [
    "# c. Box Plot"
   ]
  },
  {
   "cell_type": "code",
   "execution_count": 24,
   "metadata": {
    "execution": {
     "iopub.execute_input": "2025-07-18T05:35:30.111973Z",
     "iopub.status.busy": "2025-07-18T05:35:30.111618Z",
     "iopub.status.idle": "2025-07-18T05:35:31.103342Z",
     "shell.execute_reply": "2025-07-18T05:35:31.102197Z",
     "shell.execute_reply.started": "2025-07-18T05:35:30.111944Z"
    },
    "trusted": true
   },
   "outputs": [
    {
     "data": {
      "image/png": "[encoded data removed]",
      "text/plain": [
       "<Figure size 1400x1000 with 4 Axes>"
      ]
     },
     "metadata": {},
     "output_type": "display_data"
    }
   ],
   "source": [
    "import matplotlib.pyplot as plt\n",
    "import seaborn as sns\n",
    "\n",
    "# Apply a clean aesthetic style\n",
    "sns.set_style(\"whitegrid\")\n",
    "\n",
    "# Set up a 2x2 subplot layout\n",
    "fig, axes = plt.subplots(2, 2, figsize=(14, 10))\n",
    "fig.suptitle('Boxplot Distributions by Category', fontsize=18, fontweight='bold')\n",
    "\n",
    "# First subplot: Gender vs Years of Experience\n",
    "sns.boxplot(ax=axes[0, 0], x='Gender', y='Years of Experience', data=dataset1, palette=\"coolwarm\")\n",
    "axes[0, 0].set_title('Experience by Gender', fontsize=14)\n",
    "axes[0, 0].set_xlabel('Gender')\n",
    "axes[0, 0].set_ylabel('Years of Experience')\n",
    "\n",
    "# Second subplot: Gender vs Salary\n",
    "sns.boxplot(ax=axes[0, 1], x='Gender', y='Salary', data=dataset1, palette=\"coolwarm\")\n",
    "axes[0, 1].set_title('Salary by Gender', fontsize=14)\n",
    "axes[0, 1].set_xlabel('Gender')\n",
    "axes[0, 1].set_ylabel('Salary')\n",
    "\n",
    "# Third subplot: Education Level vs Years of Experience\n",
    "sns.boxplot(ax=axes[1, 0], x='Education Level', y='Years of Experience', data=dataset1, palette=\"coolwarm\")\n",
    "axes[1, 0].set_title('Experience by Education Level', fontsize=14)\n",
    "axes[1, 0].set_xlabel('Education Level')\n",
    "axes[1, 0].set_ylabel('Years of Experience')\n",
    "\n",
    "# Fourth subplot: Education Level vs Salary\n",
    "sns.boxplot(ax=axes[1, 1], x='Education Level', y='Salary', data=dataset1, palette=\"coolwarm\")\n",
    "axes[1, 1].set_title('Salary by Education Level', fontsize=14)\n",
    "axes[1, 1].set_xlabel('Education Level')\n",
    "axes[1, 1].set_ylabel('Salary')\n",
    "\n",
    "# Improve layout and appearance\n",
    "for ax in axes.flat:\n",
    "    ax.grid(True, linestyle='--', alpha=0.6)\n",
    "    sns.despine(ax=ax, left=True, bottom=True)\n",
    "    ax.set_facecolor('lightblue')\n",
    "\n",
    "plt.tight_layout(rect=[0, 0, 1, 0.95])\n",
    "plt.show()\n"
   ]
  },
  {
   "cell_type": "markdown",
   "metadata": {},
   "source": [
    "# Multivariate Analysis"
   ]
  },
  {
   "cell_type": "markdown",
   "metadata": {},
   "source": [
    "# Multivariate Analysis \n",
    "## 1. ScatterPlot (Numerical-Numerical) "
   ]
  },
  {
   "cell_type": "code",
   "execution_count": 25,
   "metadata": {
    "execution": {
     "iopub.execute_input": "2025-07-18T05:35:31.104612Z",
     "iopub.status.busy": "2025-07-18T05:35:31.104348Z",
     "iopub.status.idle": "2025-07-18T05:35:31.112380Z",
     "shell.execute_reply": "2025-07-18T05:35:31.110967Z",
     "shell.execute_reply.started": "2025-07-18T05:35:31.104591Z"
    },
    "trusted": true
   },
   "outputs": [
    {
     "data": {
      "text/plain": [
       "Index(['Age', 'Gender', 'Education Level', 'Job Title', 'Years of Experience',\n",
       "       'Salary'],\n",
       "      dtype='object')"
      ]
     },
     "execution_count": 25,
     "metadata": {},
     "output_type": "execute_result"
    }
   ],
   "source": [
    "dataset1.columns"
   ]
  },
  {
   "cell_type": "markdown",
   "metadata": {},
   "source": [
    "## For scatter plots, you should use two continuous (numeric) variables, as scatter plots show relationships between such variables."
   ]
  },
  {
   "cell_type": "code",
   "execution_count": 26,
   "metadata": {
    "execution": {
     "iopub.execute_input": "2025-07-18T05:35:31.114030Z",
     "iopub.status.busy": "2025-07-18T05:35:31.113733Z",
     "iopub.status.idle": "2025-07-18T05:35:32.125261Z",
     "shell.execute_reply": "2025-07-18T05:35:32.124208Z",
     "shell.execute_reply.started": "2025-07-18T05:35:31.114002Z"
    },
    "trusted": true
   },
   "outputs": [
    {
     "data": {
      "image/png": "[encoded data removed]",
      "text/plain": [
       "<Figure size 1800x500 with 3 Axes>"
      ]
     },
     "metadata": {},
     "output_type": "display_data"
    }
   ],
   "source": [
    "# Set aesthetic style\n",
    "sns.set_style(\"whitegrid\")\n",
    "\n",
    "# Create a 1x3 subplot layout\n",
    "fig, axes = plt.subplots(1, 3, figsize=(18, 5))\n",
    "fig.suptitle('Scatter Plot Comparisons', fontsize=18, fontweight='bold')\n",
    "\n",
    "# Age vs Years of Experience\n",
    "sns.scatterplot(ax=axes[0], x='Age', y='Years of Experience', data=dataset1, color='teal')\n",
    "axes[0].set_title('Age vs Experience')\n",
    "axes[0].set_xlabel('Age')\n",
    "axes[0].set_ylabel('Years of Experience')\n",
    "\n",
    "# Age vs Salary\n",
    "sns.scatterplot(ax=axes[1], x='Age', y='Salary', data=dataset1, color='coral')\n",
    "axes[1].set_title('Age vs Salary')\n",
    "axes[1].set_xlabel('Age')\n",
    "axes[1].set_ylabel('Salary')\n",
    "\n",
    "# Years of Experience vs Salary\n",
    "sns.scatterplot(ax=axes[2], x='Years of Experience', y='Salary', data=dataset1, color='steelblue')\n",
    "axes[2].set_title('Experience vs Salary')\n",
    "axes[2].set_xlabel('Years of Experience')\n",
    "axes[2].set_ylabel('Salary')\n",
    "\n",
    "# Improve layout\n",
    "plt.tight_layout(rect=[0, 0, 1, 0.95])\n",
    "plt.show()"
   ]
  },
  {
   "cell_type": "code",
   "execution_count": 27,
   "metadata": {
    "execution": {
     "iopub.execute_input": "2025-07-18T05:35:32.126632Z",
     "iopub.status.busy": "2025-07-18T05:35:32.126359Z",
     "iopub.status.idle": "2025-07-18T05:35:34.952333Z",
     "shell.execute_reply": "2025-07-18T05:35:34.951216Z",
     "shell.execute_reply.started": "2025-07-18T05:35:32.126610Z"
    },
    "trusted": true
   },
   "outputs": [
    {
     "name": "stderr",
     "output_type": "stream",
     "text": [
      "/usr/local/lib/python3.11/dist-packages/seaborn/_oldcore.py:1119: FutureWarning: use_inf_as_na option is deprecated and will be removed in a future version. Convert inf values to NaN before operating instead.\n",
      "  with pd.option_context('mode.use_inf_as_na', True):\n",
      "/usr/local/lib/python3.11/dist-packages/seaborn/_oldcore.py:1119: FutureWarning: use_inf_as_na option is deprecated and will be removed in a future version. Convert inf values to NaN before operating instead.\n",
      "  with pd.option_context('mode.use_inf_as_na', True):\n",
      "/usr/local/lib/python3.11/dist-packages/seaborn/_oldcore.py:1119: FutureWarning: use_inf_as_na option is deprecated and will be removed in a future version. Convert inf values to NaN before operating instead.\n",
      "  with pd.option_context('mode.use_inf_as_na', True):\n",
      "/usr/local/lib/python3.11/dist-packages/seaborn/axisgrid.py:118: UserWarning: The figure layout has changed to tight\n",
      "  self._figure.tight_layout(*args, **kwargs)\n"
     ]
    },
    {
     "data": {
      "text/plain": [
       "<seaborn.axisgrid.PairGrid at 0x799a033f0e50>"
      ]
     },
     "execution_count": 27,
     "metadata": {},
     "output_type": "execute_result"
    },
    {
     "data": {
      "image/png": "[encoded data removed]",
      "text/plain": [
       "<Figure size 750x750 with 12 Axes>"
      ]
     },
     "metadata": {},
     "output_type": "display_data"
    }
   ],
   "source": [
    "sns.pairplot(dataset1)"
   ]
  },
  {
   "cell_type": "code",
   "execution_count": 28,
   "metadata": {
    "execution": {
     "iopub.execute_input": "2025-07-18T05:35:34.953596Z",
     "iopub.status.busy": "2025-07-18T05:35:34.953298Z",
     "iopub.status.idle": "2025-07-18T05:35:35.231120Z",
     "shell.execute_reply": "2025-07-18T05:35:35.229708Z",
     "shell.execute_reply.started": "2025-07-18T05:35:34.953577Z"
    },
    "trusted": true
   },
   "outputs": [
    {
     "data": {
      "image/png": "[encoded data removed]",
      "text/plain": [
       "<Figure size 800x600 with 2 Axes>"
      ]
     },
     "metadata": {},
     "output_type": "display_data"
    }
   ],
   "source": [
    "import matplotlib.pyplot as plt\n",
    "import seaborn as sns\n",
    "\n",
    "# Select only numeric columns for correlation\n",
    "numeric_data = dataset1[['Age', 'Years of Experience', 'Salary']]\n",
    "\n",
    "# Compute the correlation matrix\n",
    "corr_matrix = numeric_data.corr()\n",
    "\n",
    "# Set style\n",
    "sns.set_style(\"whitegrid\")\n",
    "\n",
    "# Create the heatmap\n",
    "plt.figure(figsize=(8, 6))\n",
    "sns.heatmap(corr_matrix, annot=True, cmap='coolwarm', linewidths=0.5, fmt=\".2f\")\n",
    "\n",
    "# Customize title\n",
    "plt.title('Correlation Heatmap', fontsize=16, fontweight='bold')\n",
    "plt.show()\n"
   ]
  },
  {
   "cell_type": "markdown",
   "metadata": {},
   "source": [
    "# -->Applying column transformer to the required columns for simple imputer,Ordinal Encoder,One hot Encoding"
   ]
  },
  {
   "cell_type": "code",
   "execution_count": 29,
   "metadata": {
    "execution": {
     "iopub.execute_input": "2025-07-18T05:35:35.233259Z",
     "iopub.status.busy": "2025-07-18T05:35:35.232924Z",
     "iopub.status.idle": "2025-07-18T05:35:35.237556Z",
     "shell.execute_reply": "2025-07-18T05:35:35.236561Z",
     "shell.execute_reply.started": "2025-07-18T05:35:35.233237Z"
    },
    "trusted": true
   },
   "outputs": [],
   "source": [
    "# !pip install scikit-learn==1.7.0\n"
   ]
  },
  {
   "cell_type": "code",
   "execution_count": 30,
   "metadata": {
    "execution": {
     "iopub.execute_input": "2025-07-18T05:35:35.239554Z",
     "iopub.status.busy": "2025-07-18T05:35:35.239192Z",
     "iopub.status.idle": "2025-07-18T05:35:35.912996Z",
     "shell.execute_reply": "2025-07-18T05:35:35.911976Z",
     "shell.execute_reply.started": "2025-07-18T05:35:35.239525Z"
    },
    "trusted": true
   },
   "outputs": [],
   "source": [
    "from sklearn.compose import ColumnTransformer\n",
    "from sklearn.impute import KNNImputer\n",
    "from sklearn.preprocessing import OneHotEncoder\n",
    "from sklearn.preprocessing import OrdinalEncoder\n",
    "from sklearn.pipeline import Pipeline"
   ]
  },
  {
   "cell_type": "code",
   "execution_count": 31,
   "metadata": {
    "execution": {
     "iopub.execute_input": "2025-07-18T05:35:35.914414Z",
     "iopub.status.busy": "2025-07-18T05:35:35.914102Z",
     "iopub.status.idle": "2025-07-18T05:35:35.920181Z",
     "shell.execute_reply": "2025-07-18T05:35:35.919105Z",
     "shell.execute_reply.started": "2025-07-18T05:35:35.914391Z"
    },
    "trusted": true
   },
   "outputs": [
    {
     "name": "stdout",
     "output_type": "stream",
     "text": [
      "1.2.2\n"
     ]
    }
   ],
   "source": [
    "import sklearn\n",
    "print(sklearn.__version__)"
   ]
  },
  {
   "cell_type": "code",
   "execution_count": 32,
   "metadata": {
    "execution": {
     "iopub.execute_input": "2025-07-18T05:35:35.922058Z",
     "iopub.status.busy": "2025-07-18T05:35:35.921228Z",
     "iopub.status.idle": "2025-07-18T05:35:35.963109Z",
     "shell.execute_reply": "2025-07-18T05:35:35.961973Z",
     "shell.execute_reply.started": "2025-07-18T05:35:35.922030Z"
    },
    "trusted": true
   },
   "outputs": [
    {
     "data": {
      "text/html": [
       "<div>\n",
       "<style scoped>\n",
       "    .dataframe tbody tr th:only-of-type {\n",
       "        vertical-align: middle;\n",
       "    }\n",
       "\n",
       "    .dataframe tbody tr th {\n",
       "        vertical-align: top;\n",
       "    }\n",
       "\n",
       "    .dataframe thead th {\n",
       "        text-align: right;\n",
       "    }\n",
       "</style>\n",
       "<table border=\"1\" class=\"dataframe\">\n",
       "  <thead>\n",
       "    <tr style=\"text-align: right;\">\n",
       "      <th></th>\n",
       "      <th>Age</th>\n",
       "      <th>Gender</th>\n",
       "      <th>Education Level</th>\n",
       "      <th>Job Title</th>\n",
       "      <th>Years of Experience</th>\n",
       "      <th>Salary</th>\n",
       "    </tr>\n",
       "  </thead>\n",
       "  <tbody>\n",
       "    <tr>\n",
       "      <th>0</th>\n",
       "      <td>32.0</td>\n",
       "      <td>Male</td>\n",
       "      <td>Bachelor's</td>\n",
       "      <td>Software Engineer</td>\n",
       "      <td>5.0</td>\n",
       "      <td>90000.0</td>\n",
       "    </tr>\n",
       "    <tr>\n",
       "      <th>1</th>\n",
       "      <td>28.0</td>\n",
       "      <td>Female</td>\n",
       "      <td>Master's</td>\n",
       "      <td>Data Analyst</td>\n",
       "      <td>3.0</td>\n",
       "      <td>65000.0</td>\n",
       "    </tr>\n",
       "    <tr>\n",
       "      <th>2</th>\n",
       "      <td>45.0</td>\n",
       "      <td>Male</td>\n",
       "      <td>PhD</td>\n",
       "      <td>Senior Manager</td>\n",
       "      <td>15.0</td>\n",
       "      <td>150000.0</td>\n",
       "    </tr>\n",
       "    <tr>\n",
       "      <th>3</th>\n",
       "      <td>36.0</td>\n",
       "      <td>Female</td>\n",
       "      <td>Bachelor's</td>\n",
       "      <td>Sales Associate</td>\n",
       "      <td>7.0</td>\n",
       "      <td>60000.0</td>\n",
       "    </tr>\n",
       "    <tr>\n",
       "      <th>4</th>\n",
       "      <td>52.0</td>\n",
       "      <td>Male</td>\n",
       "      <td>Master's</td>\n",
       "      <td>Director</td>\n",
       "      <td>20.0</td>\n",
       "      <td>200000.0</td>\n",
       "    </tr>\n",
       "  </tbody>\n",
       "</table>\n",
       "</div>"
      ],
      "text/plain": [
       "    Age  Gender Education Level          Job Title  Years of Experience  \\\n",
       "0  32.0    Male      Bachelor's  Software Engineer                  5.0   \n",
       "1  28.0  Female        Master's       Data Analyst                  3.0   \n",
       "2  45.0    Male             PhD     Senior Manager                 15.0   \n",
       "3  36.0  Female      Bachelor's    Sales Associate                  7.0   \n",
       "4  52.0    Male        Master's           Director                 20.0   \n",
       "\n",
       "     Salary  \n",
       "0   90000.0  \n",
       "1   65000.0  \n",
       "2  150000.0  \n",
       "3   60000.0  \n",
       "4  200000.0  "
      ]
     },
     "execution_count": 32,
     "metadata": {},
     "output_type": "execute_result"
    }
   ],
   "source": [
    "dataset1.head()"
   ]
  },
  {
   "cell_type": "code",
   "execution_count": 33,
   "metadata": {
    "execution": {
     "iopub.execute_input": "2025-07-18T05:35:35.965094Z",
     "iopub.status.busy": "2025-07-18T05:35:35.964557Z",
     "iopub.status.idle": "2025-07-18T05:35:35.990281Z",
     "shell.execute_reply": "2025-07-18T05:35:35.988786Z",
     "shell.execute_reply.started": "2025-07-18T05:35:35.965070Z"
    },
    "trusted": true
   },
   "outputs": [
    {
     "data": {
      "text/plain": [
       "array(['Software Engineer', 'Data Analyst', 'Senior Manager',\n",
       "       'Sales Associate', 'Director', 'Marketing Analyst',\n",
       "       'Product Manager', 'Sales Manager', 'Marketing Coordinator',\n",
       "       'Senior Scientist', 'Software Developer', 'HR Manager',\n",
       "       'Financial Analyst', 'Project Manager', 'Customer Service Rep',\n",
       "       'Operations Manager', 'Marketing Manager', 'Senior Engineer',\n",
       "       'Data Entry Clerk', 'Sales Director', 'Business Analyst',\n",
       "       'VP of Operations', 'IT Support', 'Recruiter', 'Financial Manager',\n",
       "       'Social Media Specialist', 'Software Manager', 'Junior Developer',\n",
       "       'Senior Consultant', 'Product Designer', 'CEO', 'Accountant',\n",
       "       'Data Scientist', 'Marketing Specialist', 'Technical Writer',\n",
       "       'HR Generalist', 'Project Engineer', 'Customer Success Rep',\n",
       "       'Sales Executive', 'UX Designer', 'Operations Director',\n",
       "       'Network Engineer', 'Administrative Assistant',\n",
       "       'Strategy Consultant', 'Copywriter', 'Account Manager',\n",
       "       'Director of Marketing', 'Help Desk Analyst',\n",
       "       'Customer Service Manager', 'Business Intelligence Analyst',\n",
       "       'Event Coordinator', 'VP of Finance', 'Graphic Designer',\n",
       "       'UX Researcher', 'Social Media Manager', 'Director of Operations',\n",
       "       'Senior Data Scientist', 'Junior Accountant',\n",
       "       'Digital Marketing Manager', 'IT Manager',\n",
       "       'Customer Service Representative', 'Business Development Manager',\n",
       "       'Senior Financial Analyst', 'Web Developer', 'Research Director',\n",
       "       'Technical Support Specialist', 'Creative Director',\n",
       "       'Senior Software Engineer', 'Human Resources Director',\n",
       "       'Content Marketing Manager', 'Technical Recruiter',\n",
       "       'Sales Representative', 'Chief Technology Officer',\n",
       "       'Junior Designer', 'Financial Advisor', 'Junior Account Manager',\n",
       "       'Senior Project Manager', 'Principal Scientist',\n",
       "       'Supply Chain Manager', 'Senior Marketing Manager',\n",
       "       'Training Specialist', 'Research Scientist',\n",
       "       'Junior Software Developer', 'Public Relations Manager',\n",
       "       'Operations Analyst', 'Product Marketing Manager',\n",
       "       'Senior HR Manager', 'Junior Web Developer',\n",
       "       'Senior Project Coordinator', 'Chief Data Officer',\n",
       "       'Digital Content Producer', 'IT Support Specialist',\n",
       "       'Senior Marketing Analyst', 'Customer Success Manager',\n",
       "       'Senior Graphic Designer', 'Software Project Manager',\n",
       "       'Supply Chain Analyst', 'Senior Business Analyst',\n",
       "       'Junior Marketing Analyst', 'Office Manager', 'Principal Engineer',\n",
       "       'Junior HR Generalist', 'Senior Product Manager',\n",
       "       'Junior Operations Analyst', 'Senior HR Generalist',\n",
       "       'Sales Operations Manager', 'Senior Software Developer',\n",
       "       'Junior Web Designer', 'Senior Training Specialist',\n",
       "       'Senior Research Scientist', 'Junior Sales Representative',\n",
       "       'Junior Marketing Manager', 'Junior Data Analyst',\n",
       "       'Senior Product Marketing Manager', 'Junior Business Analyst',\n",
       "       'Senior Sales Manager', 'Junior Marketing Specialist',\n",
       "       'Junior Project Manager', 'Senior Accountant', 'Director of Sales',\n",
       "       'Junior Recruiter', 'Senior Business Development Manager',\n",
       "       'Senior Product Designer', 'Junior Customer Support Specialist',\n",
       "       'Senior IT Support Specialist', 'Junior Financial Analyst',\n",
       "       'Senior Operations Manager', 'Director of Human Resources',\n",
       "       'Junior Software Engineer', 'Senior Sales Representative',\n",
       "       'Director of Product Management', 'Junior Copywriter',\n",
       "       'Senior Marketing Coordinator', 'Senior Human Resources Manager',\n",
       "       'Junior Business Development Associate', 'Senior Account Manager',\n",
       "       'Senior Researcher', 'Junior HR Coordinator',\n",
       "       'Director of Finance', 'Junior Marketing Coordinator',\n",
       "       'Junior Data Scientist', 'Senior Operations Analyst',\n",
       "       'Senior Human Resources Coordinator', 'Senior UX Designer',\n",
       "       'Junior Product Manager', 'Senior Marketing Specialist',\n",
       "       'Senior IT Project Manager', 'Senior Quality Assurance Analyst',\n",
       "       'Director of Sales and Marketing', 'Senior Account Executive',\n",
       "       'Director of Business Development', 'Junior Social Media Manager',\n",
       "       'Senior Human Resources Specialist', 'Senior Data Analyst',\n",
       "       'Director of Human Capital', 'Junior Advertising Coordinator',\n",
       "       'Junior UX Designer', 'Senior Marketing Director',\n",
       "       'Senior IT Consultant', 'Senior Financial Advisor',\n",
       "       'Junior Business Operations Analyst',\n",
       "       'Junior Social Media Specialist',\n",
       "       'Senior Product Development Manager', 'Junior Operations Manager',\n",
       "       'Senior Software Architect', 'Junior Research Scientist',\n",
       "       'Senior Financial Manager', 'Senior HR Specialist',\n",
       "       'Senior Data Engineer', 'Junior Operations Coordinator',\n",
       "       'Director of HR', 'Senior Operations Coordinator',\n",
       "       'Junior Financial Advisor', 'Director of Engineering'],\n",
       "      dtype=object)"
      ]
     },
     "execution_count": 33,
     "metadata": {},
     "output_type": "execute_result"
    }
   ],
   "source": [
    "dataset1['Job Title'].unique()"
   ]
  },
  {
   "cell_type": "code",
   "execution_count": 34,
   "metadata": {
    "execution": {
     "iopub.execute_input": "2025-07-18T05:35:35.992456Z",
     "iopub.status.busy": "2025-07-18T05:35:35.992053Z",
     "iopub.status.idle": "2025-07-18T05:35:36.013715Z",
     "shell.execute_reply": "2025-07-18T05:35:36.012265Z",
     "shell.execute_reply.started": "2025-07-18T05:35:35.992426Z"
    },
    "trusted": true
   },
   "outputs": [
    {
     "data": {
      "text/plain": [
       "array([\"Bachelor's\", \"Master's\", 'PhD'], dtype=object)"
      ]
     },
     "execution_count": 34,
     "metadata": {},
     "output_type": "execute_result"
    }
   ],
   "source": [
    "dataset1['Education Level'].unique()"
   ]
  },
  {
   "cell_type": "code",
   "execution_count": 35,
   "metadata": {
    "execution": {
     "iopub.execute_input": "2025-07-18T05:35:36.015365Z",
     "iopub.status.busy": "2025-07-18T05:35:36.015011Z",
     "iopub.status.idle": "2025-07-18T05:35:36.035389Z",
     "shell.execute_reply": "2025-07-18T05:35:36.034510Z",
     "shell.execute_reply.started": "2025-07-18T05:35:36.015338Z"
    },
    "trusted": true
   },
   "outputs": [],
   "source": [
    "job_title_order = [\n",
    "    # Entry-level\n",
    "    'Data Entry Clerk', 'Junior Developer', 'Junior Accountant', 'Junior Data Analyst',\n",
    "    'Junior Software Developer', 'Junior HR Generalist', 'Junior Recruiter', 'Junior Designer',\n",
    "    'Junior Web Developer', 'Junior Web Designer', 'Junior UX Designer', 'Junior Marketing Analyst',\n",
    "    'Junior Marketing Specialist', 'Junior Project Manager', 'Junior Account Manager',\n",
    "    'Junior Customer Support Specialist', 'Junior HR Coordinator', 'Junior Copywriter',\n",
    "    'Junior Marketing Coordinator', 'Junior Social Media Manager', 'Junior Business Analyst',\n",
    "    'Junior Operations Analyst', 'Junior Software Engineer', 'Junior Advertising Coordinator',\n",
    "    'Junior Operations Manager', 'Junior Operations Coordinator', 'Junior Product Manager',\n",
    "    'Junior Financial Analyst', 'Junior Business Development Associate',\n",
    "    'Junior Financial Advisor', 'Junior Business Operations Analyst',\n",
    "    'Junior Social Media Specialist', 'Junior Research Scientist',\n",
    "    'Junior Sales Representative', 'Junior Marketing Manager',\n",
    "\n",
    "    # Mid-level ICs\n",
    "    'Administrative Assistant', 'Customer Service Rep', 'Customer Service Representative',\n",
    "    'Help Desk Analyst', 'IT Support', 'IT Support Specialist', 'Technical Support Specialist',\n",
    "    'Technical Writer', 'Graphic Designer', 'UX Designer', 'Copywriter', 'Accountant',\n",
    "    'Recruiter', 'Sales Representative', 'Sales Associate', 'Marketing Analyst',\n",
    "    'Social Media Specialist', 'Digital Content Producer', 'Content Marketing Manager',\n",
    "    'Marketing Specialist', 'Data Analyst', 'Software Engineer', 'Software Developer',\n",
    "    'Web Developer', 'Product Designer', 'Project Engineer', 'Business Analyst',\n",
    "    'Operations Analyst', 'UX Researcher', 'Social Media Manager', 'Financial Analyst',\n",
    "    'Customer Success Rep', 'Customer Success Manager', 'IT Manager',\n",
    "    'Technical Recruiter', 'Network Engineer', 'Business Intelligence Analyst',\n",
    "    'Office Manager', 'HR Generalist', 'Event Coordinator', 'Research Scientist',\n",
    "    'Financial Advisor', 'Data Scientist', 'Product Marketing Manager', 'Product Manager',\n",
    "\n",
    "    # Mid-Level Managers\n",
    "    'Marketing Coordinator', 'Marketing Manager', 'HR Manager', 'Account Manager',\n",
    "    'Customer Service Manager', 'Operations Manager', 'Financial Manager', 'Sales Manager',\n",
    "    'Training Specialist', 'Project Manager', 'Sales Executive', 'Strategy Consultant',\n",
    "    'Software Project Manager', 'Business Development Manager', 'Supply Chain Analyst',\n",
    "    'Supply Chain Manager', 'Sales Director', 'Sales Operations Manager', 'Software Manager',\n",
    "\n",
    "    # Senior ICs & Managers\n",
    "    'Senior Engineer', 'Senior Software Developer', 'Senior Software Engineer',\n",
    "    'Senior Financial Analyst', 'Senior Financial Advisor', 'Senior Analyst',\n",
    "    'Senior Data Analyst', 'Senior Data Scientist', 'Senior Data Engineer',\n",
    "    'Senior Scientist', 'Principal Scientist', 'Principal Engineer',\n",
    "    'Senior Consultant', 'Senior Marketing Analyst', 'Senior Marketing Specialist',\n",
    "    'Senior Marketing Manager', 'Senior Graphic Designer', 'Senior UX Designer',\n",
    "    'Senior HR Manager', 'Senior HR Generalist', 'Senior Financial Manager',\n",
    "    'Senior Business Analyst', 'Senior Account Manager', 'Senior Operations Analyst',\n",
    "    'Senior Operations Manager', 'Senior Account Executive', 'Senior Researcher',\n",
    "    'Senior Project Manager', 'Senior Marketing Coordinator', 'Senior Product Manager',\n",
    "    'Senior Project Coordinator', 'Senior Product Designer', 'Senior Training Specialist',\n",
    "    'Senior Research Scientist', 'Senior Human Resources Specialist', 'Senior HR Specialist',\n",
    "    'Senior Operations Coordinator', 'Senior IT Project Manager', 'Senior IT Consultant',\n",
    "    'Senior IT Support Specialist', 'Senior Business Development Manager',\n",
    "    'Senior Product Development Manager', 'Senior Sales Manager',\n",
    "    'Senior Sales Representative', 'Senior Quality Assurance Analyst',\n",
    "    'Senior Human Resources Manager', 'Senior Marketing Director',\n",
    "    'Senior Product Marketing Manager', 'Senior Software Architect',\n",
    "    'Senior Manager', 'Senior Accountant', 'Senior Human Resources Coordinator',\n",
    "\n",
    "    # Directors\n",
    "    'Director', 'Creative Director', 'Research Director', 'Director of Finance',\n",
    "    'Director of Operations', 'Director of Sales', 'Director of Marketing',\n",
    "    'Director of Product Management', 'Director of Business Development',\n",
    "    'Director of Sales and Marketing', 'Director of Human Capital',\n",
    "    'Director of Engineering', 'Director of Human Resources', 'Director of HR',\n",
    "\n",
    "    # VPs\n",
    "    'VP of Operations', 'VP of Finance',\n",
    "\n",
    "    # CXOs\n",
    "    'Chief Technology Officer', 'Chief Data Officer', 'CEO'\n",
    "]\n"
   ]
  },
  {
   "cell_type": "code",
   "execution_count": 36,
   "metadata": {
    "execution": {
     "iopub.execute_input": "2025-07-18T05:35:36.036634Z",
     "iopub.status.busy": "2025-07-18T05:35:36.036344Z",
     "iopub.status.idle": "2025-07-18T05:35:36.063359Z",
     "shell.execute_reply": "2025-07-18T05:35:36.062169Z",
     "shell.execute_reply.started": "2025-07-18T05:35:36.036605Z"
    },
    "trusted": true
   },
   "outputs": [],
   "source": [
    "#Encoding step=Categorical Data=>Ordinal Encoding for Ordinal data and One hot encoding for Nominal data\n",
    "\n",
    "\n",
    "\n",
    "\n",
    "trf1 = ColumnTransformer(\n",
    "    transformers=[\n",
    "        (\"ohe_Gender\", OneHotEncoder(min_frequency=2, sparse_output=False, handle_unknown='ignore'), [1]),\n",
    "        (\"ordinal_Educational_Level\", OrdinalEncoder(categories=[[\"Bachelor's\", \"Master's\", \"PhD\"]]), [2]),\n",
    "        (\"ordinal_Job_Title\", OrdinalEncoder(handle_unknown='use_encoded_value',unknown_value=-1,categories=[job_title_order]), [3]) \n",
    "    ],\n",
    "    remainder='passthrough'\n",
    ")\n",
    "\n",
    "\n",
    "\n",
    "# trf2 = ColumnTransformer([\n",
    "#     (\"ohe_location\", OneHotEncoder(min_frequency=180, sparse_output=False, handle_unknown='ignore'), [1]),\n",
    "#     (\"ordinal_area_type\", OrdinalEncoder(handle_unknown='use_encoded_value',unknown_value=-1, categories=[['Super built-up  Area', 'Plot  Area', 'Built-up  Area','Carpet  Area']]), [0])\n",
    "# ], remainder='drop')"
   ]
  },
  {
   "cell_type": "code",
   "execution_count": 37,
   "metadata": {
    "execution": {
     "iopub.execute_input": "2025-07-18T05:35:36.065361Z",
     "iopub.status.busy": "2025-07-18T05:35:36.064805Z",
     "iopub.status.idle": "2025-07-18T05:35:36.090430Z",
     "shell.execute_reply": "2025-07-18T05:35:36.089005Z",
     "shell.execute_reply.started": "2025-07-18T05:35:36.065325Z"
    },
    "trusted": true
   },
   "outputs": [],
   "source": [
    "from sklearn.linear_model import LinearRegression\n",
    "trf2 = LinearRegression()\n",
    "\n",
    "pipe=Pipeline([\n",
    "     ('trf1',trf1),\n",
    "     ('trf2',trf2)\n",
    "]\n",
    ")"
   ]
  },
  {
   "cell_type": "code",
   "execution_count": 38,
   "metadata": {
    "execution": {
     "iopub.execute_input": "2025-07-18T05:35:36.092245Z",
     "iopub.status.busy": "2025-07-18T05:35:36.091909Z",
     "iopub.status.idle": "2025-07-18T05:35:36.121494Z",
     "shell.execute_reply": "2025-07-18T05:35:36.120289Z",
     "shell.execute_reply.started": "2025-07-18T05:35:36.092223Z"
    },
    "trusted": true
   },
   "outputs": [
    {
     "data": {
      "text/html": [
       "<div>\n",
       "<style scoped>\n",
       "    .dataframe tbody tr th:only-of-type {\n",
       "        vertical-align: middle;\n",
       "    }\n",
       "\n",
       "    .dataframe tbody tr th {\n",
       "        vertical-align: top;\n",
       "    }\n",
       "\n",
       "    .dataframe thead th {\n",
       "        text-align: right;\n",
       "    }\n",
       "</style>\n",
       "<table border=\"1\" class=\"dataframe\">\n",
       "  <thead>\n",
       "    <tr style=\"text-align: right;\">\n",
       "      <th></th>\n",
       "      <th>Age</th>\n",
       "      <th>Gender</th>\n",
       "      <th>Education Level</th>\n",
       "      <th>Job Title</th>\n",
       "      <th>Years of Experience</th>\n",
       "      <th>Salary</th>\n",
       "    </tr>\n",
       "  </thead>\n",
       "  <tbody>\n",
       "    <tr>\n",
       "      <th>80</th>\n",
       "      <td>36.0</td>\n",
       "      <td>Male</td>\n",
       "      <td>Bachelor's</td>\n",
       "      <td>Technical Recruiter</td>\n",
       "      <td>8.0</td>\n",
       "      <td>70000.0</td>\n",
       "    </tr>\n",
       "  </tbody>\n",
       "</table>\n",
       "</div>"
      ],
      "text/plain": [
       "     Age Gender Education Level            Job Title  Years of Experience  \\\n",
       "80  36.0   Male      Bachelor's  Technical Recruiter                  8.0   \n",
       "\n",
       "     Salary  \n",
       "80  70000.0  "
      ]
     },
     "execution_count": 38,
     "metadata": {},
     "output_type": "execute_result"
    }
   ],
   "source": [
    "dataset1[dataset1['Job Title']=='Technical Recruiter']"
   ]
  },
  {
   "cell_type": "code",
   "execution_count": 39,
   "metadata": {
    "execution": {
     "iopub.execute_input": "2025-07-18T05:35:36.122826Z",
     "iopub.status.busy": "2025-07-18T05:35:36.122501Z",
     "iopub.status.idle": "2025-07-18T05:35:36.143624Z",
     "shell.execute_reply": "2025-07-18T05:35:36.142496Z",
     "shell.execute_reply.started": "2025-07-18T05:35:36.122800Z"
    },
    "trusted": true
   },
   "outputs": [],
   "source": [
    "X=dataset1.drop(columns=['Salary'])\n",
    "y=dataset1['Salary']"
   ]
  },
  {
   "cell_type": "code",
   "execution_count": 72,
   "metadata": {
    "execution": {
     "iopub.execute_input": "2025-07-18T05:44:19.288752Z",
     "iopub.status.busy": "2025-07-18T05:44:19.288404Z",
     "iopub.status.idle": "2025-07-18T05:44:19.299283Z",
     "shell.execute_reply": "2025-07-18T05:44:19.297894Z",
     "shell.execute_reply.started": "2025-07-18T05:44:19.288729Z"
    },
    "trusted": true
   },
   "outputs": [],
   "source": [
    "from sklearn.model_selection import train_test_split\n",
    "from sklearn.metrics import mean_absolute_error, mean_squared_error, r2_score\n",
    "\n",
    "X_train, X_test, y_train, y_test = train_test_split(X, y, test_size=0.2,random_state=107)"
   ]
  },
  {
   "cell_type": "code",
   "execution_count": 73,
   "metadata": {
    "execution": {
     "iopub.execute_input": "2025-07-18T05:44:19.818706Z",
     "iopub.status.busy": "2025-07-18T05:44:19.818323Z",
     "iopub.status.idle": "2025-07-18T05:44:19.899159Z",
     "shell.execute_reply": "2025-07-18T05:44:19.897747Z",
     "shell.execute_reply.started": "2025-07-18T05:44:19.818685Z"
    },
    "trusted": true
   },
   "outputs": [
    {
     "data": {
      "text/html": [
       "<style>#sk-container-id-6 {color: black;background-color: white;}#sk-container-id-6 pre{padding: 0;}#sk-container-id-6 div.sk-toggleable {background-color: white;}#sk-container-id-6 label.sk-toggleable__label {cursor: pointer;display: block;width: 100%;margin-bottom: 0;padding: 0.3em;box-sizing: border-box;text-align: center;}#sk-container-id-6 label.sk-toggleable__label-arrow:before {content: \"▸\";float: left;margin-right: 0.25em;color: #696969;}#sk-container-id-6 label.sk-toggleable__label-arrow:hover:before {color: black;}#sk-container-id-6 div.sk-estimator:hover label.sk-toggleable__label-arrow:before {color: black;}#sk-container-id-6 div.sk-toggleable__content {max-height: 0;max-width: 0;overflow: hidden;text-align: left;background-color: #f0f8ff;}#sk-container-id-6 div.sk-toggleable__content pre {margin: 0.2em;color: black;border-radius: 0.25em;background-color: #f0f8ff;}#sk-container-id-6 input.sk-toggleable__control:checked~div.sk-toggleable__content {max-height: 200px;max-width: 100%;overflow: auto;}#sk-container-id-6 input.sk-toggleable__control:checked~label.sk-toggleable__label-arrow:before {content: \"▾\";}#sk-container-id-6 div.sk-estimator input.sk-toggleable__control:checked~label.sk-toggleable__label {background-color: #d4ebff;}#sk-container-id-6 div.sk-label input.sk-toggleable__control:checked~label.sk-toggleable__label {background-color: #d4ebff;}#sk-container-id-6 input.sk-hidden--visually {border: 0;clip: rect(1px 1px 1px 1px);clip: rect(1px, 1px, 1px, 1px);height: 1px;margin: -1px;overflow: hidden;padding: 0;position: absolute;width: 1px;}#sk-container-id-6 div.sk-estimator {font-family: monospace;background-color: #f0f8ff;border: 1px dotted black;border-radius: 0.25em;box-sizing: border-box;margin-bottom: 0.5em;}#sk-container-id-6 div.sk-estimator:hover {background-color: #d4ebff;}#sk-container-id-6 div.sk-parallel-item::after {content: \"\";width: 100%;border-bottom: 1px solid gray;flex-grow: 1;}#sk-container-id-6 div.sk-label:hover label.sk-toggleable__label {background-color: #d4ebff;}#sk-container-id-6 div.sk-serial::before {content: \"\";position: absolute;border-left: 1px solid gray;box-sizing: border-box;top: 0;bottom: 0;left: 50%;z-index: 0;}#sk-container-id-6 div.sk-serial {display: flex;flex-direction: column;align-items: center;background-color: white;padding-right: 0.2em;padding-left: 0.2em;position: relative;}#sk-container-id-6 div.sk-item {position: relative;z-index: 1;}#sk-container-id-6 div.sk-parallel {display: flex;align-items: stretch;justify-content: center;background-color: white;position: relative;}#sk-container-id-6 div.sk-item::before, #sk-container-id-6 div.sk-parallel-item::before {content: \"\";position: absolute;border-left: 1px solid gray;box-sizing: border-box;top: 0;bottom: 0;left: 50%;z-index: -1;}#sk-container-id-6 div.sk-parallel-item {display: flex;flex-direction: column;z-index: 1;position: relative;background-color: white;}#sk-container-id-6 div.sk-parallel-item:first-child::after {align-self: flex-end;width: 50%;}#sk-container-id-6 div.sk-parallel-item:last-child::after {align-self: flex-start;width: 50%;}#sk-container-id-6 div.sk-parallel-item:only-child::after {width: 0;}#sk-container-id-6 div.sk-dashed-wrapped {border: 1px dashed gray;margin: 0 0.4em 0.5em 0.4em;box-sizing: border-box;padding-bottom: 0.4em;background-color: white;}#sk-container-id-6 div.sk-label label {font-family: monospace;font-weight: bold;display: inline-block;line-height: 1.2em;}#sk-container-id-6 div.sk-label-container {text-align: center;}#sk-container-id-6 div.sk-container {/* jupyter's `normalize.less` sets `[hidden] { display: none; }` but bootstrap.min.css set `[hidden] { display: none !important; }` so we also need the `!important` here to be able to override the default hidden behavior on the sphinx rendered scikit-learn.org. See: https://github.com/scikit-learn/scikit-learn/issues/21755 */display: inline-block !important;position: relative;}#sk-container-id-6 div.sk-text-repr-fallback {display: none;}</style><div id=\"sk-container-id-6\" class=\"sk-top-container\"><div class=\"sk-text-repr-fallback\"><pre>Pipeline(steps=[(&#x27;trf1&#x27;,\n",
       "                 ColumnTransformer(remainder=&#x27;passthrough&#x27;,\n",
       "                                   transformers=[(&#x27;ohe_Gender&#x27;,\n",
       "                                                  OneHotEncoder(handle_unknown=&#x27;ignore&#x27;,\n",
       "                                                                min_frequency=2,\n",
       "                                                                sparse_output=False),\n",
       "                                                  [1]),\n",
       "                                                 (&#x27;ordinal_Educational_Level&#x27;,\n",
       "                                                  OrdinalEncoder(categories=[[&quot;Bachelor&#x27;s&quot;,\n",
       "                                                                              &quot;Master&#x27;s&quot;,\n",
       "                                                                              &#x27;PhD&#x27;]]),\n",
       "                                                  [2]),\n",
       "                                                 (&#x27;ordinal_Job_Title&#x27;,\n",
       "                                                  OrdinalEncoder(categories=[[&#x27;Data &#x27;\n",
       "                                                                              &#x27;Entry &#x27;\n",
       "                                                                              &#x27;Clerk&#x27;,\n",
       "                                                                              &#x27;Junior &#x27;\n",
       "                                                                              &#x27;De...\n",
       "                                                                              &#x27;Junior &#x27;\n",
       "                                                                              &#x27;Software &#x27;\n",
       "                                                                              &#x27;Engineer&#x27;,\n",
       "                                                                              &#x27;Junior &#x27;\n",
       "                                                                              &#x27;Advertising &#x27;\n",
       "                                                                              &#x27;Coordinator&#x27;,\n",
       "                                                                              &#x27;Junior &#x27;\n",
       "                                                                              &#x27;Operations &#x27;\n",
       "                                                                              &#x27;Manager&#x27;,\n",
       "                                                                              &#x27;Junior &#x27;\n",
       "                                                                              &#x27;Operations &#x27;\n",
       "                                                                              &#x27;Coordinator&#x27;,\n",
       "                                                                              &#x27;Junior &#x27;\n",
       "                                                                              &#x27;Product &#x27;\n",
       "                                                                              &#x27;Manager&#x27;,\n",
       "                                                                              &#x27;Junior &#x27;\n",
       "                                                                              &#x27;Financial &#x27;\n",
       "                                                                              &#x27;Analyst&#x27;,\n",
       "                                                                              &#x27;Junior &#x27;\n",
       "                                                                              &#x27;Business &#x27;\n",
       "                                                                              &#x27;Development &#x27;\n",
       "                                                                              &#x27;Associate&#x27;,\n",
       "                                                                              &#x27;Junior &#x27;\n",
       "                                                                              &#x27;Financial &#x27;\n",
       "                                                                              &#x27;Advisor&#x27;, ...]],\n",
       "                                                                 handle_unknown=&#x27;use_encoded_value&#x27;,\n",
       "                                                                 unknown_value=-1),\n",
       "                                                  [3])])),\n",
       "                (&#x27;trf2&#x27;, LinearRegression())])</pre><b>In a Jupyter environment, please rerun this cell to show the HTML representation or trust the notebook. <br />On GitHub, the HTML representation is unable to render, please try loading this page with nbviewer.org.</b></div><div class=\"sk-container\" hidden><div class=\"sk-item sk-dashed-wrapped\"><div class=\"sk-label-container\"><div class=\"sk-label sk-toggleable\"><input class=\"sk-toggleable__control sk-hidden--visually\" id=\"sk-estimator-id-56\" type=\"checkbox\" ><label for=\"sk-estimator-id-56\" class=\"sk-toggleable__label sk-toggleable__label-arrow\">Pipeline</label><div class=\"sk-toggleable__content\"><pre>Pipeline(steps=[(&#x27;trf1&#x27;,\n",
       "                 ColumnTransformer(remainder=&#x27;passthrough&#x27;,\n",
       "                                   transformers=[(&#x27;ohe_Gender&#x27;,\n",
       "                                                  OneHotEncoder(handle_unknown=&#x27;ignore&#x27;,\n",
       "                                                                min_frequency=2,\n",
       "                                                                sparse_output=False),\n",
       "                                                  [1]),\n",
       "                                                 (&#x27;ordinal_Educational_Level&#x27;,\n",
       "                                                  OrdinalEncoder(categories=[[&quot;Bachelor&#x27;s&quot;,\n",
       "                                                                              &quot;Master&#x27;s&quot;,\n",
       "                                                                              &#x27;PhD&#x27;]]),\n",
       "                                                  [2]),\n",
       "                                                 (&#x27;ordinal_Job_Title&#x27;,\n",
       "                                                  OrdinalEncoder(categories=[[&#x27;Data &#x27;\n",
       "                                                                              &#x27;Entry &#x27;\n",
       "                                                                              &#x27;Clerk&#x27;,\n",
       "                                                                              &#x27;Junior &#x27;\n",
       "                                                                              &#x27;De...\n",
       "                                                                              &#x27;Junior &#x27;\n",
       "                                                                              &#x27;Software &#x27;\n",
       "                                                                              &#x27;Engineer&#x27;,\n",
       "                                                                              &#x27;Junior &#x27;\n",
       "                                                                              &#x27;Advertising &#x27;\n",
       "                                                                              &#x27;Coordinator&#x27;,\n",
       "                                                                              &#x27;Junior &#x27;\n",
       "                                                                              &#x27;Operations &#x27;\n",
       "                                                                              &#x27;Manager&#x27;,\n",
       "                                                                              &#x27;Junior &#x27;\n",
       "                                                                              &#x27;Operations &#x27;\n",
       "                                                                              &#x27;Coordinator&#x27;,\n",
       "                                                                              &#x27;Junior &#x27;\n",
       "                                                                              &#x27;Product &#x27;\n",
       "                                                                              &#x27;Manager&#x27;,\n",
       "                                                                              &#x27;Junior &#x27;\n",
       "                                                                              &#x27;Financial &#x27;\n",
       "                                                                              &#x27;Analyst&#x27;,\n",
       "                                                                              &#x27;Junior &#x27;\n",
       "                                                                              &#x27;Business &#x27;\n",
       "                                                                              &#x27;Development &#x27;\n",
       "                                                                              &#x27;Associate&#x27;,\n",
       "                                                                              &#x27;Junior &#x27;\n",
       "                                                                              &#x27;Financial &#x27;\n",
       "                                                                              &#x27;Advisor&#x27;, ...]],\n",
       "                                                                 handle_unknown=&#x27;use_encoded_value&#x27;,\n",
       "                                                                 unknown_value=-1),\n",
       "                                                  [3])])),\n",
       "                (&#x27;trf2&#x27;, LinearRegression())])</pre></div></div></div><div class=\"sk-serial\"><div class=\"sk-item sk-dashed-wrapped\"><div class=\"sk-label-container\"><div class=\"sk-label sk-toggleable\"><input class=\"sk-toggleable__control sk-hidden--visually\" id=\"sk-estimator-id-57\" type=\"checkbox\" ><label for=\"sk-estimator-id-57\" class=\"sk-toggleable__label sk-toggleable__label-arrow\">trf1: ColumnTransformer</label><div class=\"sk-toggleable__content\"><pre>ColumnTransformer(remainder=&#x27;passthrough&#x27;,\n",
       "                  transformers=[(&#x27;ohe_Gender&#x27;,\n",
       "                                 OneHotEncoder(handle_unknown=&#x27;ignore&#x27;,\n",
       "                                               min_frequency=2,\n",
       "                                               sparse_output=False),\n",
       "                                 [1]),\n",
       "                                (&#x27;ordinal_Educational_Level&#x27;,\n",
       "                                 OrdinalEncoder(categories=[[&quot;Bachelor&#x27;s&quot;,\n",
       "                                                             &quot;Master&#x27;s&quot;,\n",
       "                                                             &#x27;PhD&#x27;]]),\n",
       "                                 [2]),\n",
       "                                (&#x27;ordinal_Job_Title&#x27;,\n",
       "                                 OrdinalEncoder(categories=[[&#x27;Data Entry Clerk&#x27;,\n",
       "                                                             &#x27;Junior Developer&#x27;,\n",
       "                                                             &#x27;Junior &#x27;\n",
       "                                                             &#x27;Accountant&#x27;,...\n",
       "                                                             &#x27;Analyst&#x27;,\n",
       "                                                             &#x27;Junior &#x27;\n",
       "                                                             &#x27;Operations &#x27;\n",
       "                                                             &#x27;Analyst&#x27;,\n",
       "                                                             &#x27;Junior Software &#x27;\n",
       "                                                             &#x27;Engineer&#x27;,\n",
       "                                                             &#x27;Junior &#x27;\n",
       "                                                             &#x27;Advertising &#x27;\n",
       "                                                             &#x27;Coordinator&#x27;,\n",
       "                                                             &#x27;Junior &#x27;\n",
       "                                                             &#x27;Operations &#x27;\n",
       "                                                             &#x27;Manager&#x27;,\n",
       "                                                             &#x27;Junior &#x27;\n",
       "                                                             &#x27;Operations &#x27;\n",
       "                                                             &#x27;Coordinator&#x27;,\n",
       "                                                             &#x27;Junior Product &#x27;\n",
       "                                                             &#x27;Manager&#x27;,\n",
       "                                                             &#x27;Junior Financial &#x27;\n",
       "                                                             &#x27;Analyst&#x27;,\n",
       "                                                             &#x27;Junior Business &#x27;\n",
       "                                                             &#x27;Development &#x27;\n",
       "                                                             &#x27;Associate&#x27;,\n",
       "                                                             &#x27;Junior Financial &#x27;\n",
       "                                                             &#x27;Advisor&#x27;, ...]],\n",
       "                                                handle_unknown=&#x27;use_encoded_value&#x27;,\n",
       "                                                unknown_value=-1),\n",
       "                                 [3])])</pre></div></div></div><div class=\"sk-parallel\"><div class=\"sk-parallel-item\"><div class=\"sk-item\"><div class=\"sk-label-container\"><div class=\"sk-label sk-toggleable\"><input class=\"sk-toggleable__control sk-hidden--visually\" id=\"sk-estimator-id-58\" type=\"checkbox\" ><label for=\"sk-estimator-id-58\" class=\"sk-toggleable__label sk-toggleable__label-arrow\">ohe_Gender</label><div class=\"sk-toggleable__content\"><pre>[1]</pre></div></div></div><div class=\"sk-serial\"><div class=\"sk-item\"><div class=\"sk-estimator sk-toggleable\"><input class=\"sk-toggleable__control sk-hidden--visually\" id=\"sk-estimator-id-59\" type=\"checkbox\" ><label for=\"sk-estimator-id-59\" class=\"sk-toggleable__label sk-toggleable__label-arrow\">OneHotEncoder</label><div class=\"sk-toggleable__content\"><pre>OneHotEncoder(handle_unknown=&#x27;ignore&#x27;, min_frequency=2, sparse_output=False)</pre></div></div></div></div></div></div><div class=\"sk-parallel-item\"><div class=\"sk-item\"><div class=\"sk-label-container\"><div class=\"sk-label sk-toggleable\"><input class=\"sk-toggleable__control sk-hidden--visually\" id=\"sk-estimator-id-60\" type=\"checkbox\" ><label for=\"sk-estimator-id-60\" class=\"sk-toggleable__label sk-toggleable__label-arrow\">ordinal_Educational_Level</label><div class=\"sk-toggleable__content\"><pre>[2]</pre></div></div></div><div class=\"sk-serial\"><div class=\"sk-item\"><div class=\"sk-estimator sk-toggleable\"><input class=\"sk-toggleable__control sk-hidden--visually\" id=\"sk-estimator-id-61\" type=\"checkbox\" ><label for=\"sk-estimator-id-61\" class=\"sk-toggleable__label sk-toggleable__label-arrow\">OrdinalEncoder</label><div class=\"sk-toggleable__content\"><pre>OrdinalEncoder(categories=[[&quot;Bachelor&#x27;s&quot;, &quot;Master&#x27;s&quot;, &#x27;PhD&#x27;]])</pre></div></div></div></div></div></div><div class=\"sk-parallel-item\"><div class=\"sk-item\"><div class=\"sk-label-container\"><div class=\"sk-label sk-toggleable\"><input class=\"sk-toggleable__control sk-hidden--visually\" id=\"sk-estimator-id-62\" type=\"checkbox\" ><label for=\"sk-estimator-id-62\" class=\"sk-toggleable__label sk-toggleable__label-arrow\">ordinal_Job_Title</label><div class=\"sk-toggleable__content\"><pre>[3]</pre></div></div></div><div class=\"sk-serial\"><div class=\"sk-item\"><div class=\"sk-estimator sk-toggleable\"><input class=\"sk-toggleable__control sk-hidden--visually\" id=\"sk-estimator-id-63\" type=\"checkbox\" ><label for=\"sk-estimator-id-63\" class=\"sk-toggleable__label sk-toggleable__label-arrow\">OrdinalEncoder</label><div class=\"sk-toggleable__content\"><pre>OrdinalEncoder(categories=[[&#x27;Data Entry Clerk&#x27;, &#x27;Junior Developer&#x27;,\n",
       "                            &#x27;Junior Accountant&#x27;, &#x27;Junior Data Analyst&#x27;,\n",
       "                            &#x27;Junior Software Developer&#x27;, &#x27;Junior HR Generalist&#x27;,\n",
       "                            &#x27;Junior Recruiter&#x27;, &#x27;Junior Designer&#x27;,\n",
       "                            &#x27;Junior Web Developer&#x27;, &#x27;Junior Web Designer&#x27;,\n",
       "                            &#x27;Junior UX Designer&#x27;, &#x27;Junior Marketing Analyst&#x27;,\n",
       "                            &#x27;Junior Marketing Specialist&#x27;,\n",
       "                            &#x27;Junior Project Manager&#x27;, &#x27;Junior Account Manager&#x27;,\n",
       "                            &#x27;Junior...\n",
       "                            &#x27;Junior Social Media Manager&#x27;,\n",
       "                            &#x27;Junior Business Analyst&#x27;,\n",
       "                            &#x27;Junior Operations Analyst&#x27;,\n",
       "                            &#x27;Junior Software Engineer&#x27;,\n",
       "                            &#x27;Junior Advertising Coordinator&#x27;,\n",
       "                            &#x27;Junior Operations Manager&#x27;,\n",
       "                            &#x27;Junior Operations Coordinator&#x27;,\n",
       "                            &#x27;Junior Product Manager&#x27;,\n",
       "                            &#x27;Junior Financial Analyst&#x27;,\n",
       "                            &#x27;Junior Business Development Associate&#x27;,\n",
       "                            &#x27;Junior Financial Advisor&#x27;, ...]],\n",
       "               handle_unknown=&#x27;use_encoded_value&#x27;, unknown_value=-1)</pre></div></div></div></div></div></div><div class=\"sk-parallel-item\"><div class=\"sk-item\"><div class=\"sk-label-container\"><div class=\"sk-label sk-toggleable\"><input class=\"sk-toggleable__control sk-hidden--visually\" id=\"sk-estimator-id-64\" type=\"checkbox\" ><label for=\"sk-estimator-id-64\" class=\"sk-toggleable__label sk-toggleable__label-arrow\">remainder</label><div class=\"sk-toggleable__content\"><pre>[&#x27;Age&#x27;, &#x27;Years of Experience&#x27;]</pre></div></div></div><div class=\"sk-serial\"><div class=\"sk-item\"><div class=\"sk-estimator sk-toggleable\"><input class=\"sk-toggleable__control sk-hidden--visually\" id=\"sk-estimator-id-65\" type=\"checkbox\" ><label for=\"sk-estimator-id-65\" class=\"sk-toggleable__label sk-toggleable__label-arrow\">passthrough</label><div class=\"sk-toggleable__content\"><pre>passthrough</pre></div></div></div></div></div></div></div></div><div class=\"sk-item\"><div class=\"sk-estimator sk-toggleable\"><input class=\"sk-toggleable__control sk-hidden--visually\" id=\"sk-estimator-id-66\" type=\"checkbox\" ><label for=\"sk-estimator-id-66\" class=\"sk-toggleable__label sk-toggleable__label-arrow\">LinearRegression</label><div class=\"sk-toggleable__content\"><pre>LinearRegression()</pre></div></div></div></div></div></div></div>"
      ],
      "text/plain": [
       "Pipeline(steps=[('trf1',\n",
       "                 ColumnTransformer(remainder='passthrough',\n",
       "                                   transformers=[('ohe_Gender',\n",
       "                                                  OneHotEncoder(handle_unknown='ignore',\n",
       "                                                                min_frequency=2,\n",
       "                                                                sparse_output=False),\n",
       "                                                  [1]),\n",
       "                                                 ('ordinal_Educational_Level',\n",
       "                                                  OrdinalEncoder(categories=[[\"Bachelor's\",\n",
       "                                                                              \"Master's\",\n",
       "                                                                              'PhD']]),\n",
       "                                                  [2]),\n",
       "                                                 ('ordinal_Job_Title',\n",
       "                                                  OrdinalEncoder(categories=[['Data '\n",
       "                                                                              'Entry '\n",
       "                                                                              'Clerk',\n",
       "                                                                              'Junior '\n",
       "                                                                              'De...\n",
       "                                                                              'Junior '\n",
       "                                                                              'Software '\n",
       "                                                                              'Engineer',\n",
       "                                                                              'Junior '\n",
       "                                                                              'Advertising '\n",
       "                                                                              'Coordinator',\n",
       "                                                                              'Junior '\n",
       "                                                                              'Operations '\n",
       "                                                                              'Manager',\n",
       "                                                                              'Junior '\n",
       "                                                                              'Operations '\n",
       "                                                                              'Coordinator',\n",
       "                                                                              'Junior '\n",
       "                                                                              'Product '\n",
       "                                                                              'Manager',\n",
       "                                                                              'Junior '\n",
       "                                                                              'Financial '\n",
       "                                                                              'Analyst',\n",
       "                                                                              'Junior '\n",
       "                                                                              'Business '\n",
       "                                                                              'Development '\n",
       "                                                                              'Associate',\n",
       "                                                                              'Junior '\n",
       "                                                                              'Financial '\n",
       "                                                                              'Advisor', ...]],\n",
       "                                                                 handle_unknown='use_encoded_value',\n",
       "                                                                 unknown_value=-1),\n",
       "                                                  [3])])),\n",
       "                ('trf2', LinearRegression())])"
      ]
     },
     "execution_count": 73,
     "metadata": {},
     "output_type": "execute_result"
    }
   ],
   "source": [
    "pipe.fit(X_train, y_train)"
   ]
  },
  {
   "cell_type": "code",
   "execution_count": 74,
   "metadata": {
    "execution": {
     "iopub.execute_input": "2025-07-18T05:44:20.227153Z",
     "iopub.status.busy": "2025-07-18T05:44:20.226769Z",
     "iopub.status.idle": "2025-07-18T05:44:20.241542Z",
     "shell.execute_reply": "2025-07-18T05:44:20.240513Z",
     "shell.execute_reply.started": "2025-07-18T05:44:20.227112Z"
    },
    "trusted": true
   },
   "outputs": [
    {
     "data": {
      "text/plain": [
       "array([ 95043.12276587,  62186.13796328,  40849.40919057, 155105.20111359,\n",
       "       167240.54023655, 105307.44201971,  86555.07080414, 126922.87392111,\n",
       "       149701.34580303, 119114.3950027 , 168103.58587513,  75497.98059904,\n",
       "       106258.54088174, 135513.62304902,  98241.69773543, 152036.936405  ,\n",
       "        36502.348358  , 120456.08900646, 159768.34079813,  67858.87103181,\n",
       "        62487.43672887, 169542.3932768 ,  72806.13438668, 145564.05557767,\n",
       "       109488.83440489,  91176.49267856, 206344.32584466,  25213.59436282,\n",
       "        96517.45010933,  48994.00436233, 170230.64902256, 111236.38159318,\n",
       "        50854.58623193, 132492.93690644,  52606.3735514 , 176851.48250336,\n",
       "       190008.09616252, 186573.61580044, 101920.06226721, 105660.12073951,\n",
       "       110958.28043411,  47470.24267137,  98060.70997428,  94297.4524242 ,\n",
       "        99104.74337401, 104572.75037621,  84729.3064223 ,  85541.07406233,\n",
       "        34375.28521056, 163937.51280371,  46923.18894185, 142697.35673027,\n",
       "       174775.0968561 ,  38468.7113152 ,  79458.14719368, 131121.98210021,\n",
       "        60851.78302487, 172206.76106676,  98563.19712904,  36008.46762195,\n",
       "        61548.01901905, 166812.02867289,  84729.3064223 , 101444.51283619,\n",
       "       149909.87325756,  60647.05695854,  44415.27973968, 166583.46234573,\n",
       "        85011.10848516,  83313.09612878,  46832.12372714,  60697.19376007,\n",
       "        95407.41989565, 162295.05926175, 153035.71431744])"
      ]
     },
     "execution_count": 74,
     "metadata": {},
     "output_type": "execute_result"
    }
   ],
   "source": [
    "# Predict\n",
    "y_pred = pipe.predict(X_test)\n",
    "y_pred"
   ]
  },
  {
   "cell_type": "code",
   "execution_count": 75,
   "metadata": {
    "execution": {
     "iopub.execute_input": "2025-07-18T05:44:20.646812Z",
     "iopub.status.busy": "2025-07-18T05:44:20.646492Z",
     "iopub.status.idle": "2025-07-18T05:44:20.655802Z",
     "shell.execute_reply": "2025-07-18T05:44:20.654259Z",
     "shell.execute_reply.started": "2025-07-18T05:44:20.646790Z"
    },
    "trusted": true
   },
   "outputs": [
    {
     "data": {
      "text/plain": [
       "0.9330448368445652"
      ]
     },
     "execution_count": 75,
     "metadata": {},
     "output_type": "execute_result"
    }
   ],
   "source": [
    "from sklearn.metrics import r2_score\n",
    "r2 = r2_score(y_test,y_pred)\n",
    "r2"
   ]
  },
  {
   "cell_type": "code",
   "execution_count": 78,
   "metadata": {
    "execution": {
     "iopub.execute_input": "2025-07-18T05:44:24.415826Z",
     "iopub.status.busy": "2025-07-18T05:44:24.415400Z",
     "iopub.status.idle": "2025-07-18T05:44:24.431672Z",
     "shell.execute_reply": "2025-07-18T05:44:24.430150Z",
     "shell.execute_reply.started": "2025-07-18T05:44:24.415799Z"
    },
    "trusted": true
   },
   "outputs": [
    {
     "data": {
      "text/html": [
       "<style type=\"text/css\">\n",
       "#T_eff70 th {\n",
       "  background-color: #f0f0f0;\n",
       "  font-weight: bold;\n",
       "}\n",
       "#T_eff70 td {\n",
       "  text-align: center;\n",
       "}\n",
       "</style>\n",
       "<table id=\"T_eff70\">\n",
       "  <thead>\n",
       "    <tr>\n",
       "      <th id=\"T_eff70_level0_col0\" class=\"col_heading level0 col0\" >Metric</th>\n",
       "      <th id=\"T_eff70_level0_col1\" class=\"col_heading level0 col1\" >Value</th>\n",
       "    </tr>\n",
       "  </thead>\n",
       "  <tbody>\n",
       "    <tr>\n",
       "      <td id=\"T_eff70_row0_col0\" class=\"data row0 col0\" >Mean Absolute Error (MAE)</td>\n",
       "      <td id=\"T_eff70_row0_col1\" class=\"data row0 col1\" >9011.97</td>\n",
       "    </tr>\n",
       "    <tr>\n",
       "      <td id=\"T_eff70_row1_col0\" class=\"data row1 col0\" >Mean Squared Error (MSE)</td>\n",
       "      <td id=\"T_eff70_row1_col1\" class=\"data row1 col1\" >164123847.43</td>\n",
       "    </tr>\n",
       "    <tr>\n",
       "      <td id=\"T_eff70_row2_col0\" class=\"data row2 col0\" >Root Mean Squared Error (RMSE)</td>\n",
       "      <td id=\"T_eff70_row2_col1\" class=\"data row2 col1\" >12811.08</td>\n",
       "    </tr>\n",
       "    <tr>\n",
       "      <td id=\"T_eff70_row3_col0\" class=\"data row3 col0\" >R² Score</td>\n",
       "      <td id=\"T_eff70_row3_col1\" class=\"data row3 col1\" >0.93</td>\n",
       "    </tr>\n",
       "  </tbody>\n",
       "</table>\n"
      ],
      "text/plain": [
       "<pandas.io.formats.style.Styler at 0x7999f993a8d0>"
      ]
     },
     "execution_count": 78,
     "metadata": {},
     "output_type": "execute_result"
    }
   ],
   "source": [
    "# Compute evaluation metrics\n",
    "mae = mean_absolute_error(y_test, y_pred)\n",
    "mse = mean_squared_error(y_test, y_pred)\n",
    "rmse = np.sqrt(mse)\n",
    "# r2 = r2_score(y_test, y_pred)\n",
    "\n",
    "# Create a formatted dataframe for display\n",
    "results_df = pd.DataFrame({\n",
    "    'Metric': ['Mean Absolute Error (MAE)', 'Mean Squared Error (MSE)', 'Root Mean Squared Error (RMSE)', 'R² Score'],\n",
    "    'Value': [f\"{mae:.2f}\", f\"{mse:.2f}\", f\"{rmse:.2f}\", f\"{r2:.2f}\"]\n",
    "})\n",
    "\n",
    "# Style the table (compatible with older pandas versions)\n",
    "styled_df = results_df.style.set_table_styles([\n",
    "    {'selector': 'th', 'props': [('background-color', '#f0f0f0'), ('font-weight', 'bold')]},\n",
    "    {'selector': 'td', 'props': [('text-align', 'center')]}\n",
    "]).hide(axis='index')\n",
    "\n",
    "# Display the styled table\n",
    "styled_df"
   ]
  },
  {
   "cell_type": "code",
   "execution_count": 77,
   "metadata": {
    "execution": {
     "iopub.execute_input": "2025-07-18T05:44:22.696820Z",
     "iopub.status.busy": "2025-07-18T05:44:22.696389Z",
     "iopub.status.idle": "2025-07-18T05:44:22.759360Z",
     "shell.execute_reply": "2025-07-18T05:44:22.758171Z",
     "shell.execute_reply.started": "2025-07-18T05:44:22.696780Z"
    },
    "trusted": true
   },
   "outputs": [
    {
     "data": {
      "text/html": [
       "<style>#sk-container-id-7 {color: black;background-color: white;}#sk-container-id-7 pre{padding: 0;}#sk-container-id-7 div.sk-toggleable {background-color: white;}#sk-container-id-7 label.sk-toggleable__label {cursor: pointer;display: block;width: 100%;margin-bottom: 0;padding: 0.3em;box-sizing: border-box;text-align: center;}#sk-container-id-7 label.sk-toggleable__label-arrow:before {content: \"▸\";float: left;margin-right: 0.25em;color: #696969;}#sk-container-id-7 label.sk-toggleable__label-arrow:hover:before {color: black;}#sk-container-id-7 div.sk-estimator:hover label.sk-toggleable__label-arrow:before {color: black;}#sk-container-id-7 div.sk-toggleable__content {max-height: 0;max-width: 0;overflow: hidden;text-align: left;background-color: #f0f8ff;}#sk-container-id-7 div.sk-toggleable__content pre {margin: 0.2em;color: black;border-radius: 0.25em;background-color: #f0f8ff;}#sk-container-id-7 input.sk-toggleable__control:checked~div.sk-toggleable__content {max-height: 200px;max-width: 100%;overflow: auto;}#sk-container-id-7 input.sk-toggleable__control:checked~label.sk-toggleable__label-arrow:before {content: \"▾\";}#sk-container-id-7 div.sk-estimator input.sk-toggleable__control:checked~label.sk-toggleable__label {background-color: #d4ebff;}#sk-container-id-7 div.sk-label input.sk-toggleable__control:checked~label.sk-toggleable__label {background-color: #d4ebff;}#sk-container-id-7 input.sk-hidden--visually {border: 0;clip: rect(1px 1px 1px 1px);clip: rect(1px, 1px, 1px, 1px);height: 1px;margin: -1px;overflow: hidden;padding: 0;position: absolute;width: 1px;}#sk-container-id-7 div.sk-estimator {font-family: monospace;background-color: #f0f8ff;border: 1px dotted black;border-radius: 0.25em;box-sizing: border-box;margin-bottom: 0.5em;}#sk-container-id-7 div.sk-estimator:hover {background-color: #d4ebff;}#sk-container-id-7 div.sk-parallel-item::after {content: \"\";width: 100%;border-bottom: 1px solid gray;flex-grow: 1;}#sk-container-id-7 div.sk-label:hover label.sk-toggleable__label {background-color: #d4ebff;}#sk-container-id-7 div.sk-serial::before {content: \"\";position: absolute;border-left: 1px solid gray;box-sizing: border-box;top: 0;bottom: 0;left: 50%;z-index: 0;}#sk-container-id-7 div.sk-serial {display: flex;flex-direction: column;align-items: center;background-color: white;padding-right: 0.2em;padding-left: 0.2em;position: relative;}#sk-container-id-7 div.sk-item {position: relative;z-index: 1;}#sk-container-id-7 div.sk-parallel {display: flex;align-items: stretch;justify-content: center;background-color: white;position: relative;}#sk-container-id-7 div.sk-item::before, #sk-container-id-7 div.sk-parallel-item::before {content: \"\";position: absolute;border-left: 1px solid gray;box-sizing: border-box;top: 0;bottom: 0;left: 50%;z-index: -1;}#sk-container-id-7 div.sk-parallel-item {display: flex;flex-direction: column;z-index: 1;position: relative;background-color: white;}#sk-container-id-7 div.sk-parallel-item:first-child::after {align-self: flex-end;width: 50%;}#sk-container-id-7 div.sk-parallel-item:last-child::after {align-self: flex-start;width: 50%;}#sk-container-id-7 div.sk-parallel-item:only-child::after {width: 0;}#sk-container-id-7 div.sk-dashed-wrapped {border: 1px dashed gray;margin: 0 0.4em 0.5em 0.4em;box-sizing: border-box;padding-bottom: 0.4em;background-color: white;}#sk-container-id-7 div.sk-label label {font-family: monospace;font-weight: bold;display: inline-block;line-height: 1.2em;}#sk-container-id-7 div.sk-label-container {text-align: center;}#sk-container-id-7 div.sk-container {/* jupyter's `normalize.less` sets `[hidden] { display: none; }` but bootstrap.min.css set `[hidden] { display: none !important; }` so we also need the `!important` here to be able to override the default hidden behavior on the sphinx rendered scikit-learn.org. See: https://github.com/scikit-learn/scikit-learn/issues/21755 */display: inline-block !important;position: relative;}#sk-container-id-7 div.sk-text-repr-fallback {display: none;}</style><div id=\"sk-container-id-7\" class=\"sk-top-container\"><div class=\"sk-text-repr-fallback\"><pre>Pipeline(steps=[(&#x27;trf1&#x27;,\n",
       "                 ColumnTransformer(remainder=&#x27;passthrough&#x27;,\n",
       "                                   transformers=[(&#x27;ohe_Gender&#x27;,\n",
       "                                                  OneHotEncoder(handle_unknown=&#x27;ignore&#x27;,\n",
       "                                                                min_frequency=2,\n",
       "                                                                sparse_output=False),\n",
       "                                                  [1]),\n",
       "                                                 (&#x27;ordinal_Educational_Level&#x27;,\n",
       "                                                  OrdinalEncoder(categories=[[&quot;Bachelor&#x27;s&quot;,\n",
       "                                                                              &quot;Master&#x27;s&quot;,\n",
       "                                                                              &#x27;PhD&#x27;]]),\n",
       "                                                  [2]),\n",
       "                                                 (&#x27;ordinal_Job_Title&#x27;,\n",
       "                                                  OrdinalEncoder(categories=[[&#x27;Data &#x27;\n",
       "                                                                              &#x27;Entry &#x27;\n",
       "                                                                              &#x27;Clerk&#x27;,\n",
       "                                                                              &#x27;Junior &#x27;\n",
       "                                                                              &#x27;De...\n",
       "                                                                              &#x27;Junior &#x27;\n",
       "                                                                              &#x27;Software &#x27;\n",
       "                                                                              &#x27;Engineer&#x27;,\n",
       "                                                                              &#x27;Junior &#x27;\n",
       "                                                                              &#x27;Advertising &#x27;\n",
       "                                                                              &#x27;Coordinator&#x27;,\n",
       "                                                                              &#x27;Junior &#x27;\n",
       "                                                                              &#x27;Operations &#x27;\n",
       "                                                                              &#x27;Manager&#x27;,\n",
       "                                                                              &#x27;Junior &#x27;\n",
       "                                                                              &#x27;Operations &#x27;\n",
       "                                                                              &#x27;Coordinator&#x27;,\n",
       "                                                                              &#x27;Junior &#x27;\n",
       "                                                                              &#x27;Product &#x27;\n",
       "                                                                              &#x27;Manager&#x27;,\n",
       "                                                                              &#x27;Junior &#x27;\n",
       "                                                                              &#x27;Financial &#x27;\n",
       "                                                                              &#x27;Analyst&#x27;,\n",
       "                                                                              &#x27;Junior &#x27;\n",
       "                                                                              &#x27;Business &#x27;\n",
       "                                                                              &#x27;Development &#x27;\n",
       "                                                                              &#x27;Associate&#x27;,\n",
       "                                                                              &#x27;Junior &#x27;\n",
       "                                                                              &#x27;Financial &#x27;\n",
       "                                                                              &#x27;Advisor&#x27;, ...]],\n",
       "                                                                 handle_unknown=&#x27;use_encoded_value&#x27;,\n",
       "                                                                 unknown_value=-1),\n",
       "                                                  [3])])),\n",
       "                (&#x27;trf2&#x27;, LinearRegression())])</pre><b>In a Jupyter environment, please rerun this cell to show the HTML representation or trust the notebook. <br />On GitHub, the HTML representation is unable to render, please try loading this page with nbviewer.org.</b></div><div class=\"sk-container\" hidden><div class=\"sk-item sk-dashed-wrapped\"><div class=\"sk-label-container\"><div class=\"sk-label sk-toggleable\"><input class=\"sk-toggleable__control sk-hidden--visually\" id=\"sk-estimator-id-67\" type=\"checkbox\" ><label for=\"sk-estimator-id-67\" class=\"sk-toggleable__label sk-toggleable__label-arrow\">Pipeline</label><div class=\"sk-toggleable__content\"><pre>Pipeline(steps=[(&#x27;trf1&#x27;,\n",
       "                 ColumnTransformer(remainder=&#x27;passthrough&#x27;,\n",
       "                                   transformers=[(&#x27;ohe_Gender&#x27;,\n",
       "                                                  OneHotEncoder(handle_unknown=&#x27;ignore&#x27;,\n",
       "                                                                min_frequency=2,\n",
       "                                                                sparse_output=False),\n",
       "                                                  [1]),\n",
       "                                                 (&#x27;ordinal_Educational_Level&#x27;,\n",
       "                                                  OrdinalEncoder(categories=[[&quot;Bachelor&#x27;s&quot;,\n",
       "                                                                              &quot;Master&#x27;s&quot;,\n",
       "                                                                              &#x27;PhD&#x27;]]),\n",
       "                                                  [2]),\n",
       "                                                 (&#x27;ordinal_Job_Title&#x27;,\n",
       "                                                  OrdinalEncoder(categories=[[&#x27;Data &#x27;\n",
       "                                                                              &#x27;Entry &#x27;\n",
       "                                                                              &#x27;Clerk&#x27;,\n",
       "                                                                              &#x27;Junior &#x27;\n",
       "                                                                              &#x27;De...\n",
       "                                                                              &#x27;Junior &#x27;\n",
       "                                                                              &#x27;Software &#x27;\n",
       "                                                                              &#x27;Engineer&#x27;,\n",
       "                                                                              &#x27;Junior &#x27;\n",
       "                                                                              &#x27;Advertising &#x27;\n",
       "                                                                              &#x27;Coordinator&#x27;,\n",
       "                                                                              &#x27;Junior &#x27;\n",
       "                                                                              &#x27;Operations &#x27;\n",
       "                                                                              &#x27;Manager&#x27;,\n",
       "                                                                              &#x27;Junior &#x27;\n",
       "                                                                              &#x27;Operations &#x27;\n",
       "                                                                              &#x27;Coordinator&#x27;,\n",
       "                                                                              &#x27;Junior &#x27;\n",
       "                                                                              &#x27;Product &#x27;\n",
       "                                                                              &#x27;Manager&#x27;,\n",
       "                                                                              &#x27;Junior &#x27;\n",
       "                                                                              &#x27;Financial &#x27;\n",
       "                                                                              &#x27;Analyst&#x27;,\n",
       "                                                                              &#x27;Junior &#x27;\n",
       "                                                                              &#x27;Business &#x27;\n",
       "                                                                              &#x27;Development &#x27;\n",
       "                                                                              &#x27;Associate&#x27;,\n",
       "                                                                              &#x27;Junior &#x27;\n",
       "                                                                              &#x27;Financial &#x27;\n",
       "                                                                              &#x27;Advisor&#x27;, ...]],\n",
       "                                                                 handle_unknown=&#x27;use_encoded_value&#x27;,\n",
       "                                                                 unknown_value=-1),\n",
       "                                                  [3])])),\n",
       "                (&#x27;trf2&#x27;, LinearRegression())])</pre></div></div></div><div class=\"sk-serial\"><div class=\"sk-item sk-dashed-wrapped\"><div class=\"sk-label-container\"><div class=\"sk-label sk-toggleable\"><input class=\"sk-toggleable__control sk-hidden--visually\" id=\"sk-estimator-id-68\" type=\"checkbox\" ><label for=\"sk-estimator-id-68\" class=\"sk-toggleable__label sk-toggleable__label-arrow\">trf1: ColumnTransformer</label><div class=\"sk-toggleable__content\"><pre>ColumnTransformer(remainder=&#x27;passthrough&#x27;,\n",
       "                  transformers=[(&#x27;ohe_Gender&#x27;,\n",
       "                                 OneHotEncoder(handle_unknown=&#x27;ignore&#x27;,\n",
       "                                               min_frequency=2,\n",
       "                                               sparse_output=False),\n",
       "                                 [1]),\n",
       "                                (&#x27;ordinal_Educational_Level&#x27;,\n",
       "                                 OrdinalEncoder(categories=[[&quot;Bachelor&#x27;s&quot;,\n",
       "                                                             &quot;Master&#x27;s&quot;,\n",
       "                                                             &#x27;PhD&#x27;]]),\n",
       "                                 [2]),\n",
       "                                (&#x27;ordinal_Job_Title&#x27;,\n",
       "                                 OrdinalEncoder(categories=[[&#x27;Data Entry Clerk&#x27;,\n",
       "                                                             &#x27;Junior Developer&#x27;,\n",
       "                                                             &#x27;Junior &#x27;\n",
       "                                                             &#x27;Accountant&#x27;,...\n",
       "                                                             &#x27;Analyst&#x27;,\n",
       "                                                             &#x27;Junior &#x27;\n",
       "                                                             &#x27;Operations &#x27;\n",
       "                                                             &#x27;Analyst&#x27;,\n",
       "                                                             &#x27;Junior Software &#x27;\n",
       "                                                             &#x27;Engineer&#x27;,\n",
       "                                                             &#x27;Junior &#x27;\n",
       "                                                             &#x27;Advertising &#x27;\n",
       "                                                             &#x27;Coordinator&#x27;,\n",
       "                                                             &#x27;Junior &#x27;\n",
       "                                                             &#x27;Operations &#x27;\n",
       "                                                             &#x27;Manager&#x27;,\n",
       "                                                             &#x27;Junior &#x27;\n",
       "                                                             &#x27;Operations &#x27;\n",
       "                                                             &#x27;Coordinator&#x27;,\n",
       "                                                             &#x27;Junior Product &#x27;\n",
       "                                                             &#x27;Manager&#x27;,\n",
       "                                                             &#x27;Junior Financial &#x27;\n",
       "                                                             &#x27;Analyst&#x27;,\n",
       "                                                             &#x27;Junior Business &#x27;\n",
       "                                                             &#x27;Development &#x27;\n",
       "                                                             &#x27;Associate&#x27;,\n",
       "                                                             &#x27;Junior Financial &#x27;\n",
       "                                                             &#x27;Advisor&#x27;, ...]],\n",
       "                                                handle_unknown=&#x27;use_encoded_value&#x27;,\n",
       "                                                unknown_value=-1),\n",
       "                                 [3])])</pre></div></div></div><div class=\"sk-parallel\"><div class=\"sk-parallel-item\"><div class=\"sk-item\"><div class=\"sk-label-container\"><div class=\"sk-label sk-toggleable\"><input class=\"sk-toggleable__control sk-hidden--visually\" id=\"sk-estimator-id-69\" type=\"checkbox\" ><label for=\"sk-estimator-id-69\" class=\"sk-toggleable__label sk-toggleable__label-arrow\">ohe_Gender</label><div class=\"sk-toggleable__content\"><pre>[1]</pre></div></div></div><div class=\"sk-serial\"><div class=\"sk-item\"><div class=\"sk-estimator sk-toggleable\"><input class=\"sk-toggleable__control sk-hidden--visually\" id=\"sk-estimator-id-70\" type=\"checkbox\" ><label for=\"sk-estimator-id-70\" class=\"sk-toggleable__label sk-toggleable__label-arrow\">OneHotEncoder</label><div class=\"sk-toggleable__content\"><pre>OneHotEncoder(handle_unknown=&#x27;ignore&#x27;, min_frequency=2, sparse_output=False)</pre></div></div></div></div></div></div><div class=\"sk-parallel-item\"><div class=\"sk-item\"><div class=\"sk-label-container\"><div class=\"sk-label sk-toggleable\"><input class=\"sk-toggleable__control sk-hidden--visually\" id=\"sk-estimator-id-71\" type=\"checkbox\" ><label for=\"sk-estimator-id-71\" class=\"sk-toggleable__label sk-toggleable__label-arrow\">ordinal_Educational_Level</label><div class=\"sk-toggleable__content\"><pre>[2]</pre></div></div></div><div class=\"sk-serial\"><div class=\"sk-item\"><div class=\"sk-estimator sk-toggleable\"><input class=\"sk-toggleable__control sk-hidden--visually\" id=\"sk-estimator-id-72\" type=\"checkbox\" ><label for=\"sk-estimator-id-72\" class=\"sk-toggleable__label sk-toggleable__label-arrow\">OrdinalEncoder</label><div class=\"sk-toggleable__content\"><pre>OrdinalEncoder(categories=[[&quot;Bachelor&#x27;s&quot;, &quot;Master&#x27;s&quot;, &#x27;PhD&#x27;]])</pre></div></div></div></div></div></div><div class=\"sk-parallel-item\"><div class=\"sk-item\"><div class=\"sk-label-container\"><div class=\"sk-label sk-toggleable\"><input class=\"sk-toggleable__control sk-hidden--visually\" id=\"sk-estimator-id-73\" type=\"checkbox\" ><label for=\"sk-estimator-id-73\" class=\"sk-toggleable__label sk-toggleable__label-arrow\">ordinal_Job_Title</label><div class=\"sk-toggleable__content\"><pre>[3]</pre></div></div></div><div class=\"sk-serial\"><div class=\"sk-item\"><div class=\"sk-estimator sk-toggleable\"><input class=\"sk-toggleable__control sk-hidden--visually\" id=\"sk-estimator-id-74\" type=\"checkbox\" ><label for=\"sk-estimator-id-74\" class=\"sk-toggleable__label sk-toggleable__label-arrow\">OrdinalEncoder</label><div class=\"sk-toggleable__content\"><pre>OrdinalEncoder(categories=[[&#x27;Data Entry Clerk&#x27;, &#x27;Junior Developer&#x27;,\n",
       "                            &#x27;Junior Accountant&#x27;, &#x27;Junior Data Analyst&#x27;,\n",
       "                            &#x27;Junior Software Developer&#x27;, &#x27;Junior HR Generalist&#x27;,\n",
       "                            &#x27;Junior Recruiter&#x27;, &#x27;Junior Designer&#x27;,\n",
       "                            &#x27;Junior Web Developer&#x27;, &#x27;Junior Web Designer&#x27;,\n",
       "                            &#x27;Junior UX Designer&#x27;, &#x27;Junior Marketing Analyst&#x27;,\n",
       "                            &#x27;Junior Marketing Specialist&#x27;,\n",
       "                            &#x27;Junior Project Manager&#x27;, &#x27;Junior Account Manager&#x27;,\n",
       "                            &#x27;Junior...\n",
       "                            &#x27;Junior Social Media Manager&#x27;,\n",
       "                            &#x27;Junior Business Analyst&#x27;,\n",
       "                            &#x27;Junior Operations Analyst&#x27;,\n",
       "                            &#x27;Junior Software Engineer&#x27;,\n",
       "                            &#x27;Junior Advertising Coordinator&#x27;,\n",
       "                            &#x27;Junior Operations Manager&#x27;,\n",
       "                            &#x27;Junior Operations Coordinator&#x27;,\n",
       "                            &#x27;Junior Product Manager&#x27;,\n",
       "                            &#x27;Junior Financial Analyst&#x27;,\n",
       "                            &#x27;Junior Business Development Associate&#x27;,\n",
       "                            &#x27;Junior Financial Advisor&#x27;, ...]],\n",
       "               handle_unknown=&#x27;use_encoded_value&#x27;, unknown_value=-1)</pre></div></div></div></div></div></div><div class=\"sk-parallel-item\"><div class=\"sk-item\"><div class=\"sk-label-container\"><div class=\"sk-label sk-toggleable\"><input class=\"sk-toggleable__control sk-hidden--visually\" id=\"sk-estimator-id-75\" type=\"checkbox\" ><label for=\"sk-estimator-id-75\" class=\"sk-toggleable__label sk-toggleable__label-arrow\">remainder</label><div class=\"sk-toggleable__content\"><pre>[&#x27;Age&#x27;, &#x27;Years of Experience&#x27;]</pre></div></div></div><div class=\"sk-serial\"><div class=\"sk-item\"><div class=\"sk-estimator sk-toggleable\"><input class=\"sk-toggleable__control sk-hidden--visually\" id=\"sk-estimator-id-76\" type=\"checkbox\" ><label for=\"sk-estimator-id-76\" class=\"sk-toggleable__label sk-toggleable__label-arrow\">passthrough</label><div class=\"sk-toggleable__content\"><pre>passthrough</pre></div></div></div></div></div></div></div></div><div class=\"sk-item\"><div class=\"sk-estimator sk-toggleable\"><input class=\"sk-toggleable__control sk-hidden--visually\" id=\"sk-estimator-id-77\" type=\"checkbox\" ><label for=\"sk-estimator-id-77\" class=\"sk-toggleable__label sk-toggleable__label-arrow\">LinearRegression</label><div class=\"sk-toggleable__content\"><pre>LinearRegression()</pre></div></div></div></div></div></div></div>"
      ],
      "text/plain": [
       "Pipeline(steps=[('trf1',\n",
       "                 ColumnTransformer(remainder='passthrough',\n",
       "                                   transformers=[('ohe_Gender',\n",
       "                                                  OneHotEncoder(handle_unknown='ignore',\n",
       "                                                                min_frequency=2,\n",
       "                                                                sparse_output=False),\n",
       "                                                  [1]),\n",
       "                                                 ('ordinal_Educational_Level',\n",
       "                                                  OrdinalEncoder(categories=[[\"Bachelor's\",\n",
       "                                                                              \"Master's\",\n",
       "                                                                              'PhD']]),\n",
       "                                                  [2]),\n",
       "                                                 ('ordinal_Job_Title',\n",
       "                                                  OrdinalEncoder(categories=[['Data '\n",
       "                                                                              'Entry '\n",
       "                                                                              'Clerk',\n",
       "                                                                              'Junior '\n",
       "                                                                              'De...\n",
       "                                                                              'Junior '\n",
       "                                                                              'Software '\n",
       "                                                                              'Engineer',\n",
       "                                                                              'Junior '\n",
       "                                                                              'Advertising '\n",
       "                                                                              'Coordinator',\n",
       "                                                                              'Junior '\n",
       "                                                                              'Operations '\n",
       "                                                                              'Manager',\n",
       "                                                                              'Junior '\n",
       "                                                                              'Operations '\n",
       "                                                                              'Coordinator',\n",
       "                                                                              'Junior '\n",
       "                                                                              'Product '\n",
       "                                                                              'Manager',\n",
       "                                                                              'Junior '\n",
       "                                                                              'Financial '\n",
       "                                                                              'Analyst',\n",
       "                                                                              'Junior '\n",
       "                                                                              'Business '\n",
       "                                                                              'Development '\n",
       "                                                                              'Associate',\n",
       "                                                                              'Junior '\n",
       "                                                                              'Financial '\n",
       "                                                                              'Advisor', ...]],\n",
       "                                                                 handle_unknown='use_encoded_value',\n",
       "                                                                 unknown_value=-1),\n",
       "                                                  [3])])),\n",
       "                ('trf2', LinearRegression())])"
      ]
     },
     "execution_count": 77,
     "metadata": {},
     "output_type": "execute_result"
    }
   ],
   "source": [
    "pipe"
   ]
  },
  {
   "cell_type": "code",
   "execution_count": null,
   "metadata": {
    "execution": {
     "iopub.status.busy": "2025-07-18T05:35:36.600307Z",
     "iopub.status.idle": "2025-07-18T05:35:36.600698Z",
     "shell.execute_reply": "2025-07-18T05:35:36.600565Z",
     "shell.execute_reply.started": "2025-07-18T05:35:36.600548Z"
    },
    "trusted": true
   },
   "outputs": [],
   "source": [
    "import pickle\n",
    "\n",
    "# Save the pipeline to a file\n",
    "with open('model.pkl', 'wb') as file:\n",
    "    pickle.dump(pipe, file)"
   ]
  },
  {
   "cell_type": "code",
   "execution_count": null,
   "metadata": {
    "execution": {
     "iopub.status.busy": "2025-07-18T05:35:36.602708Z",
     "iopub.status.idle": "2025-07-18T05:35:36.603063Z",
     "shell.execute_reply": "2025-07-18T05:35:36.602933Z",
     "shell.execute_reply.started": "2025-07-18T05:35:36.602912Z"
    },
    "trusted": true
   },
   "outputs": [],
   "source": [
    "with open('model.pkl','rb') as file:\n",
    "    pre=pickle.load(file)"
   ]
  }
 ],
 "metadata": {
  "kaggle": {
   "accelerator": "none",
   "dataSources": [
    {
     "datasetId": 2973025,
     "sourceId": 5119031,
     "sourceType": "datasetVersion"
    },
    {
     "datasetId": 3802510,
     "sourceId": 6587346,
     "sourceType": "datasetVersion"
    },
    {
     "datasetId": 4404146,
     "sourceId": 7563601,
     "sourceType": "datasetVersion"
    }
   ],
   "dockerImageVersionId": 31040,
   "isGpuEnabled": false,
   "isInternetEnabled": true,
   "language": "python",
   "sourceType": "notebook"
  },
  "kernelspec": {
   "display_name": "Python 3",
   "language": "python",
   "name": "python3"
  },
  "language_info": {
   "codemirror_mode": {
    "name": "ipython",
    "version": 3
   },
   "file_extension": ".py",
   "mimetype": "text/x-python",
   "name": "python",
   "nbconvert_exporter": "python",
   "pygments_lexer": "ipython3",
   "version": "3.11.11"
  }
 },
 "nbformat": 4,
 "nbformat_minor": 4
}
